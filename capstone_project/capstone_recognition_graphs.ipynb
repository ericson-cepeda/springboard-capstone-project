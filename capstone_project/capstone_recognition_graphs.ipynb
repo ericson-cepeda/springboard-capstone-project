{
 "cells": [
  {
   "cell_type": "code",
   "execution_count": 2,
   "metadata": {},
   "outputs": [
    {
     "name": "stderr",
     "output_type": "stream",
     "text": [
      "/usr/local/lib/python3.6/site-packages/numpy/lib/arraysetops.py:472: FutureWarning: elementwise comparison failed; returning scalar instead, but in the future will perform elementwise comparison\n",
      "  mask |= (ar1 == a)\n"
     ]
    },
    {
     "data": {
      "text/html": [
       "<div>\n",
       "<style scoped>\n",
       "    .dataframe tbody tr th:only-of-type {\n",
       "        vertical-align: middle;\n",
       "    }\n",
       "\n",
       "    .dataframe tbody tr th {\n",
       "        vertical-align: top;\n",
       "    }\n",
       "\n",
       "    .dataframe thead th {\n",
       "        text-align: right;\n",
       "    }\n",
       "</style>\n",
       "<table border=\"1\" class=\"dataframe\">\n",
       "  <thead>\n",
       "    <tr style=\"text-align: right;\">\n",
       "      <th></th>\n",
       "      <th>name</th>\n",
       "      <th>item_condition_id</th>\n",
       "      <th>category_name</th>\n",
       "      <th>brand_name</th>\n",
       "      <th>price</th>\n",
       "      <th>shipping</th>\n",
       "      <th>item_description</th>\n",
       "    </tr>\n",
       "    <tr>\n",
       "      <th>train_id</th>\n",
       "      <th></th>\n",
       "      <th></th>\n",
       "      <th></th>\n",
       "      <th></th>\n",
       "      <th></th>\n",
       "      <th></th>\n",
       "      <th></th>\n",
       "    </tr>\n",
       "  </thead>\n",
       "  <tbody>\n",
       "    <tr>\n",
       "      <th>0</th>\n",
       "      <td>MLB Cincinnati Reds T Shirt Size XL</td>\n",
       "      <td>3</td>\n",
       "      <td>Men/Tops/T-shirts</td>\n",
       "      <td>NaN</td>\n",
       "      <td>10.0</td>\n",
       "      <td>1</td>\n",
       "      <td>No description yet</td>\n",
       "    </tr>\n",
       "    <tr>\n",
       "      <th>1</th>\n",
       "      <td>Razer BlackWidow Chroma Keyboard</td>\n",
       "      <td>3</td>\n",
       "      <td>Electronics/Computers &amp; Tablets/Components &amp; P...</td>\n",
       "      <td>Razer</td>\n",
       "      <td>52.0</td>\n",
       "      <td>0</td>\n",
       "      <td>This keyboard is in great condition and works ...</td>\n",
       "    </tr>\n",
       "    <tr>\n",
       "      <th>2</th>\n",
       "      <td>AVA-VIV Blouse</td>\n",
       "      <td>1</td>\n",
       "      <td>Women/Tops &amp; Blouses/Blouse</td>\n",
       "      <td>Target</td>\n",
       "      <td>10.0</td>\n",
       "      <td>1</td>\n",
       "      <td>Adorable top with a hint of lace and a key hol...</td>\n",
       "    </tr>\n",
       "    <tr>\n",
       "      <th>3</th>\n",
       "      <td>Leather Horse Statues</td>\n",
       "      <td>1</td>\n",
       "      <td>Home/Home Décor/Home Décor Accents</td>\n",
       "      <td>NaN</td>\n",
       "      <td>35.0</td>\n",
       "      <td>1</td>\n",
       "      <td>New with tags. Leather horses. Retail for [rm]...</td>\n",
       "    </tr>\n",
       "    <tr>\n",
       "      <th>4</th>\n",
       "      <td>24K GOLD plated rose</td>\n",
       "      <td>1</td>\n",
       "      <td>Women/Jewelry/Necklaces</td>\n",
       "      <td>NaN</td>\n",
       "      <td>44.0</td>\n",
       "      <td>0</td>\n",
       "      <td>Complete with certificate of authenticity</td>\n",
       "    </tr>\n",
       "  </tbody>\n",
       "</table>\n",
       "</div>"
      ],
      "text/plain": [
       "                                         name  item_condition_id  \\\n",
       "train_id                                                           \n",
       "0         MLB Cincinnati Reds T Shirt Size XL                  3   \n",
       "1            Razer BlackWidow Chroma Keyboard                  3   \n",
       "2                              AVA-VIV Blouse                  1   \n",
       "3                       Leather Horse Statues                  1   \n",
       "4                        24K GOLD plated rose                  1   \n",
       "\n",
       "                                              category_name brand_name  price  \\\n",
       "train_id                                                                        \n",
       "0                                         Men/Tops/T-shirts        NaN   10.0   \n",
       "1         Electronics/Computers & Tablets/Components & P...      Razer   52.0   \n",
       "2                               Women/Tops & Blouses/Blouse     Target   10.0   \n",
       "3                        Home/Home Décor/Home Décor Accents        NaN   35.0   \n",
       "4                                   Women/Jewelry/Necklaces        NaN   44.0   \n",
       "\n",
       "          shipping                                   item_description  \n",
       "train_id                                                               \n",
       "0                1                                 No description yet  \n",
       "1                0  This keyboard is in great condition and works ...  \n",
       "2                1  Adorable top with a hint of lace and a key hol...  \n",
       "3                1  New with tags. Leather horses. Retail for [rm]...  \n",
       "4                0          Complete with certificate of authenticity  "
      ]
     },
     "execution_count": 2,
     "metadata": {},
     "output_type": "execute_result"
    }
   ],
   "source": [
    "import pandas as pd\n",
    "df = pd.read_csv('data/train.tsv', sep='\\t', index_col='train_id')\n",
    "df.head()"
   ]
  },
  {
   "cell_type": "code",
   "execution_count": 3,
   "metadata": {},
   "outputs": [
    {
     "name": "stderr",
     "output_type": "stream",
     "text": [
      "/usr/local/lib/python3.6/site-packages/pandas/core/groupby.py:4291: FutureWarning: using a dict with renaming is deprecated and will be removed in a future version\n",
      "  return super(DataFrameGroupBy, self).aggregate(arg, *args, **kwargs)\n"
     ]
    },
    {
     "name": "stdout",
     "output_type": "stream",
     "text": [
      "1287\n"
     ]
    },
    {
     "data": {
      "text/html": [
       "<div>\n",
       "<style scoped>\n",
       "    .dataframe tbody tr th:only-of-type {\n",
       "        vertical-align: middle;\n",
       "    }\n",
       "\n",
       "    .dataframe tbody tr th {\n",
       "        vertical-align: top;\n",
       "    }\n",
       "\n",
       "    .dataframe thead th {\n",
       "        text-align: right;\n",
       "    }\n",
       "</style>\n",
       "<table border=\"1\" class=\"dataframe\">\n",
       "  <thead>\n",
       "    <tr style=\"text-align: right;\">\n",
       "      <th></th>\n",
       "      <th>category_name</th>\n",
       "      <th>counts</th>\n",
       "      <th>price_mean</th>\n",
       "      <th>description_mean</th>\n",
       "    </tr>\n",
       "  </thead>\n",
       "  <tbody>\n",
       "    <tr>\n",
       "      <th>0</th>\n",
       "      <td>Beauty/Bath &amp; Body/Bath</td>\n",
       "      <td>5049</td>\n",
       "      <td>18.481878</td>\n",
       "      <td>220.239255</td>\n",
       "    </tr>\n",
       "    <tr>\n",
       "      <th>1</th>\n",
       "      <td>Beauty/Bath &amp; Body/Bathing Accessories</td>\n",
       "      <td>332</td>\n",
       "      <td>21.882530</td>\n",
       "      <td>115.987952</td>\n",
       "    </tr>\n",
       "    <tr>\n",
       "      <th>2</th>\n",
       "      <td>Beauty/Bath &amp; Body/Cleansers</td>\n",
       "      <td>723</td>\n",
       "      <td>13.564315</td>\n",
       "      <td>172.177040</td>\n",
       "    </tr>\n",
       "    <tr>\n",
       "      <th>3</th>\n",
       "      <td>Beauty/Bath &amp; Body/Other</td>\n",
       "      <td>147</td>\n",
       "      <td>20.469388</td>\n",
       "      <td>141.054422</td>\n",
       "    </tr>\n",
       "    <tr>\n",
       "      <th>4</th>\n",
       "      <td>Beauty/Bath &amp; Body/Scrubs &amp; Body Treatments</td>\n",
       "      <td>812</td>\n",
       "      <td>24.640394</td>\n",
       "      <td>245.445813</td>\n",
       "    </tr>\n",
       "  </tbody>\n",
       "</table>\n",
       "</div>"
      ],
      "text/plain": [
       "                                 category_name  counts  price_mean  \\\n",
       "0                      Beauty/Bath & Body/Bath    5049   18.481878   \n",
       "1       Beauty/Bath & Body/Bathing Accessories     332   21.882530   \n",
       "2                 Beauty/Bath & Body/Cleansers     723   13.564315   \n",
       "3                     Beauty/Bath & Body/Other     147   20.469388   \n",
       "4  Beauty/Bath & Body/Scrubs & Body Treatments     812   24.640394   \n",
       "\n",
       "   description_mean  \n",
       "0        220.239255  \n",
       "1        115.987952  \n",
       "2        172.177040  \n",
       "3        141.054422  \n",
       "4        245.445813  "
      ]
     },
     "execution_count": 3,
     "metadata": {},
     "output_type": "execute_result"
    }
   ],
   "source": [
    "df['description_len'] = df['item_description'].str.len()\n",
    "count_df = df.groupby(['category_name'])['category_name', 'price','description_len'].agg({\n",
    "    'category_name': {\n",
    "        'counts': 'count'\n",
    "    },\n",
    "    'price': {\n",
    "        'price_mean': 'mean'\n",
    "    },\n",
    "    'description_len': {\n",
    "        'description_mean': 'mean'\n",
    "    }\n",
    "})\n",
    "\n",
    "count_df = count_df.reset_index()\n",
    "print(len(count_df))\n",
    "count_df.head()"
   ]
  },
  {
   "cell_type": "code",
   "execution_count": 4,
   "metadata": {},
   "outputs": [
    {
     "data": {
      "image/png": "[encoded data removed]",
      "text/plain": [
       "<Figure size 432x288 with 1 Axes>"
      ]
     },
     "metadata": {},
     "output_type": "display_data"
    }
   ],
   "source": [
    "import seaborn as sns\n",
    "import matplotlib.pyplot as plt\n",
    "#plt.show()\n",
    "_ = sns.stripplot(y='counts', jitter=True, data=count_df)"
   ]
  },
  {
   "cell_type": "code",
   "execution_count": 12,
   "metadata": {},
   "outputs": [
    {
     "data": {
      "image/png": "[encoded data removed]",
      "text/plain": [
       "<Figure size 432x288 with 1 Axes>"
      ]
     },
     "metadata": {},
     "output_type": "display_data"
    }
   ],
   "source": [
    "_ = sns.stripplot(y='description_mean', jitter=True, data=count_df)"
   ]
  },
  {
   "cell_type": "code",
   "execution_count": 5,
   "metadata": {},
   "outputs": [
    {
     "name": "stdout",
     "output_type": "stream",
     "text": [
      "36\n"
     ]
    },
    {
     "data": {
      "image/png": "[encoded data removed]",
      "text/plain": [
       "<Figure size 432x288 with 1 Axes>"
      ]
     },
     "metadata": {},
     "output_type": "display_data"
    }
   ],
   "source": [
    "rules_columns = ['count_10k']\n",
    "pre_aggregation_rules = lambda row: pd.Series([\n",
    "   int(row['counts'] >= 10000)\n",
    "])\n",
    "\n",
    "count_df[rules_columns] = count_df.apply(pre_aggregation_rules, axis=1)\n",
    "count_df = count_df[(count_df[rules_columns] == 1).all(axis=1)]\n",
    "print(len(count_df))\n",
    "_ = sns.violinplot(y='counts', data=count_df, inner=None, color='lightgray')\n",
    "_ = sns.swarmplot(y='counts', data=count_df)"
   ]
  },
  {
   "cell_type": "code",
   "execution_count": 7,
   "metadata": {},
   "outputs": [
    {
     "data": {
      "text/html": [
       "<div>\n",
       "<style scoped>\n",
       "    .dataframe tbody tr th:only-of-type {\n",
       "        vertical-align: middle;\n",
       "    }\n",
       "\n",
       "    .dataframe tbody tr th {\n",
       "        vertical-align: top;\n",
       "    }\n",
       "\n",
       "    .dataframe thead th {\n",
       "        text-align: right;\n",
       "    }\n",
       "</style>\n",
       "<table border=\"1\" class=\"dataframe\">\n",
       "  <thead>\n",
       "    <tr style=\"text-align: right;\">\n",
       "      <th></th>\n",
       "      <th>category_name</th>\n",
       "      <th>counts</th>\n",
       "      <th>price_mean</th>\n",
       "      <th>description_mean</th>\n",
       "    </tr>\n",
       "  </thead>\n",
       "  <tbody>\n",
       "    <tr>\n",
       "      <th>1137</th>\n",
       "      <td>Women/Athletic Apparel/Pants, Tights, Leggings</td>\n",
       "      <td>60177</td>\n",
       "      <td>34.392733</td>\n",
       "      <td>119.468618</td>\n",
       "    </tr>\n",
       "    <tr>\n",
       "      <th>1260</th>\n",
       "      <td>Women/Tops &amp; Blouses/T-Shirts</td>\n",
       "      <td>46380</td>\n",
       "      <td>19.386125</td>\n",
       "      <td>106.991570</td>\n",
       "    </tr>\n",
       "    <tr>\n",
       "      <th>27</th>\n",
       "      <td>Beauty/Makeup/Face</td>\n",
       "      <td>34335</td>\n",
       "      <td>18.470890</td>\n",
       "      <td>162.659677</td>\n",
       "    </tr>\n",
       "    <tr>\n",
       "      <th>28</th>\n",
       "      <td>Beauty/Makeup/Lips</td>\n",
       "      <td>29910</td>\n",
       "      <td>18.520846</td>\n",
       "      <td>180.425825</td>\n",
       "    </tr>\n",
       "    <tr>\n",
       "      <th>112</th>\n",
       "      <td>Electronics/Video Games &amp; Consoles/Games</td>\n",
       "      <td>26557</td>\n",
       "      <td>24.119667</td>\n",
       "      <td>106.399179</td>\n",
       "    </tr>\n",
       "    <tr>\n",
       "      <th>26</th>\n",
       "      <td>Beauty/Makeup/Eyes</td>\n",
       "      <td>25215</td>\n",
       "      <td>14.621931</td>\n",
       "      <td>202.034821</td>\n",
       "    </tr>\n",
       "    <tr>\n",
       "      <th>79</th>\n",
       "      <td>Electronics/Cell Phones &amp; Accessories/Cases, C...</td>\n",
       "      <td>24676</td>\n",
       "      <td>13.174360</td>\n",
       "      <td>222.032380</td>\n",
       "    </tr>\n",
       "    <tr>\n",
       "      <th>1265</th>\n",
       "      <td>Women/Underwear/Bras</td>\n",
       "      <td>21274</td>\n",
       "      <td>18.636364</td>\n",
       "      <td>153.820391</td>\n",
       "    </tr>\n",
       "    <tr>\n",
       "      <th>1261</th>\n",
       "      <td>Women/Tops &amp; Blouses/Tank, Cami</td>\n",
       "      <td>20284</td>\n",
       "      <td>14.411655</td>\n",
       "      <td>112.636709</td>\n",
       "    </tr>\n",
       "    <tr>\n",
       "      <th>1254</th>\n",
       "      <td>Women/Tops &amp; Blouses/Blouse</td>\n",
       "      <td>20284</td>\n",
       "      <td>15.660102</td>\n",
       "      <td>114.427233</td>\n",
       "    </tr>\n",
       "    <tr>\n",
       "      <th>1161</th>\n",
       "      <td>Women/Dresses/Above Knee, Mini</td>\n",
       "      <td>20082</td>\n",
       "      <td>21.866796</td>\n",
       "      <td>129.204561</td>\n",
       "    </tr>\n",
       "    <tr>\n",
       "      <th>1181</th>\n",
       "      <td>Women/Jewelry/Necklaces</td>\n",
       "      <td>19758</td>\n",
       "      <td>25.587509</td>\n",
       "      <td>170.998937</td>\n",
       "    </tr>\n",
       "    <tr>\n",
       "      <th>1139</th>\n",
       "      <td>Women/Athletic Apparel/Shorts</td>\n",
       "      <td>19528</td>\n",
       "      <td>18.547650</td>\n",
       "      <td>99.809709</td>\n",
       "    </tr>\n",
       "    <tr>\n",
       "      <th>29</th>\n",
       "      <td>Beauty/Makeup/Makeup Palettes</td>\n",
       "      <td>19103</td>\n",
       "      <td>25.561430</td>\n",
       "      <td>177.734440</td>\n",
       "    </tr>\n",
       "    <tr>\n",
       "      <th>1204</th>\n",
       "      <td>Women/Shoes/Boots</td>\n",
       "      <td>18864</td>\n",
       "      <td>42.645939</td>\n",
       "      <td>137.932570</td>\n",
       "    </tr>\n",
       "    <tr>\n",
       "      <th>11</th>\n",
       "      <td>Beauty/Fragrance/Women</td>\n",
       "      <td>18628</td>\n",
       "      <td>23.717790</td>\n",
       "      <td>134.850762</td>\n",
       "    </tr>\n",
       "    <tr>\n",
       "      <th>37</th>\n",
       "      <td>Beauty/Skin Care/Face</td>\n",
       "      <td>15836</td>\n",
       "      <td>22.482256</td>\n",
       "      <td>220.229919</td>\n",
       "    </tr>\n",
       "    <tr>\n",
       "      <th>1285</th>\n",
       "      <td>Women/Women's Handbags/Shoulder Bag</td>\n",
       "      <td>15328</td>\n",
       "      <td>65.975535</td>\n",
       "      <td>142.592184</td>\n",
       "    </tr>\n",
       "    <tr>\n",
       "      <th>808</th>\n",
       "      <td>Men/Tops/T-shirts</td>\n",
       "      <td>15108</td>\n",
       "      <td>18.352495</td>\n",
       "      <td>94.590349</td>\n",
       "    </tr>\n",
       "    <tr>\n",
       "      <th>1164</th>\n",
       "      <td>Women/Dresses/Knee-Length</td>\n",
       "      <td>14770</td>\n",
       "      <td>30.094787</td>\n",
       "      <td>121.200542</td>\n",
       "    </tr>\n",
       "    <tr>\n",
       "      <th>1138</th>\n",
       "      <td>Women/Athletic Apparel/Shirts &amp; Tops</td>\n",
       "      <td>14738</td>\n",
       "      <td>22.450672</td>\n",
       "      <td>106.303773</td>\n",
       "    </tr>\n",
       "    <tr>\n",
       "      <th>1213</th>\n",
       "      <td>Women/Shoes/Sandals</td>\n",
       "      <td>14662</td>\n",
       "      <td>30.074069</td>\n",
       "      <td>107.206111</td>\n",
       "    </tr>\n",
       "    <tr>\n",
       "      <th>1179</th>\n",
       "      <td>Women/Jewelry/Bracelets</td>\n",
       "      <td>14497</td>\n",
       "      <td>29.697938</td>\n",
       "      <td>139.070980</td>\n",
       "    </tr>\n",
       "    <tr>\n",
       "      <th>760</th>\n",
       "      <td>Men/Shoes/Athletic</td>\n",
       "      <td>14257</td>\n",
       "      <td>66.526128</td>\n",
       "      <td>100.229501</td>\n",
       "    </tr>\n",
       "    <tr>\n",
       "      <th>687</th>\n",
       "      <td>Kids/Toys/Dolls &amp; Accessories</td>\n",
       "      <td>13957</td>\n",
       "      <td>26.984882</td>\n",
       "      <td>125.278427</td>\n",
       "    </tr>\n",
       "    <tr>\n",
       "      <th>1276</th>\n",
       "      <td>Women/Women's Accessories/Wallets</td>\n",
       "      <td>13616</td>\n",
       "      <td>34.854473</td>\n",
       "      <td>127.306184</td>\n",
       "    </tr>\n",
       "    <tr>\n",
       "      <th>1176</th>\n",
       "      <td>Women/Jeans/Slim, Skinny</td>\n",
       "      <td>13392</td>\n",
       "      <td>21.618802</td>\n",
       "      <td>108.932945</td>\n",
       "    </tr>\n",
       "    <tr>\n",
       "      <th>485</th>\n",
       "      <td>Home/Home Décor/Home Décor Accents</td>\n",
       "      <td>13004</td>\n",
       "      <td>22.185020</td>\n",
       "      <td>155.468856</td>\n",
       "    </tr>\n",
       "    <tr>\n",
       "      <th>1253</th>\n",
       "      <td>Women/Swimwear/Two-Piece</td>\n",
       "      <td>12758</td>\n",
       "      <td>21.988086</td>\n",
       "      <td>132.019047</td>\n",
       "    </tr>\n",
       "    <tr>\n",
       "      <th>1203</th>\n",
       "      <td>Women/Shoes/Athletic</td>\n",
       "      <td>12662</td>\n",
       "      <td>43.927421</td>\n",
       "      <td>114.966751</td>\n",
       "    </tr>\n",
       "    <tr>\n",
       "      <th>683</th>\n",
       "      <td>Kids/Toys/Action Figures &amp; Statues</td>\n",
       "      <td>12524</td>\n",
       "      <td>24.912967</td>\n",
       "      <td>114.957282</td>\n",
       "    </tr>\n",
       "    <tr>\n",
       "      <th>1180</th>\n",
       "      <td>Women/Jewelry/Earrings</td>\n",
       "      <td>11932</td>\n",
       "      <td>25.786331</td>\n",
       "      <td>155.927003</td>\n",
       "    </tr>\n",
       "    <tr>\n",
       "      <th>1182</th>\n",
       "      <td>Women/Jewelry/Rings</td>\n",
       "      <td>10650</td>\n",
       "      <td>32.957465</td>\n",
       "      <td>182.961972</td>\n",
       "    </tr>\n",
       "    <tr>\n",
       "      <th>1239</th>\n",
       "      <td>Women/Sweaters/Hooded</td>\n",
       "      <td>10480</td>\n",
       "      <td>25.681870</td>\n",
       "      <td>111.552385</td>\n",
       "    </tr>\n",
       "    <tr>\n",
       "      <th>1205</th>\n",
       "      <td>Women/Shoes/Fashion Sneakers</td>\n",
       "      <td>10164</td>\n",
       "      <td>35.300964</td>\n",
       "      <td>106.969500</td>\n",
       "    </tr>\n",
       "    <tr>\n",
       "      <th>35</th>\n",
       "      <td>Beauty/Skin Care/Body</td>\n",
       "      <td>10010</td>\n",
       "      <td>18.319580</td>\n",
       "      <td>175.203596</td>\n",
       "    </tr>\n",
       "  </tbody>\n",
       "</table>\n",
       "</div>"
      ],
      "text/plain": [
       "                                          category_name  counts  price_mean  \\\n",
       "1137     Women/Athletic Apparel/Pants, Tights, Leggings   60177   34.392733   \n",
       "1260                      Women/Tops & Blouses/T-Shirts   46380   19.386125   \n",
       "27                                   Beauty/Makeup/Face   34335   18.470890   \n",
       "28                                   Beauty/Makeup/Lips   29910   18.520846   \n",
       "112            Electronics/Video Games & Consoles/Games   26557   24.119667   \n",
       "26                                   Beauty/Makeup/Eyes   25215   14.621931   \n",
       "79    Electronics/Cell Phones & Accessories/Cases, C...   24676   13.174360   \n",
       "1265                               Women/Underwear/Bras   21274   18.636364   \n",
       "1261                    Women/Tops & Blouses/Tank, Cami   20284   14.411655   \n",
       "1254                        Women/Tops & Blouses/Blouse   20284   15.660102   \n",
       "1161                     Women/Dresses/Above Knee, Mini   20082   21.866796   \n",
       "1181                            Women/Jewelry/Necklaces   19758   25.587509   \n",
       "1139                      Women/Athletic Apparel/Shorts   19528   18.547650   \n",
       "29                        Beauty/Makeup/Makeup Palettes   19103   25.561430   \n",
       "1204                                  Women/Shoes/Boots   18864   42.645939   \n",
       "11                               Beauty/Fragrance/Women   18628   23.717790   \n",
       "37                                Beauty/Skin Care/Face   15836   22.482256   \n",
       "1285                Women/Women's Handbags/Shoulder Bag   15328   65.975535   \n",
       "808                                   Men/Tops/T-shirts   15108   18.352495   \n",
       "1164                          Women/Dresses/Knee-Length   14770   30.094787   \n",
       "1138               Women/Athletic Apparel/Shirts & Tops   14738   22.450672   \n",
       "1213                                Women/Shoes/Sandals   14662   30.074069   \n",
       "1179                            Women/Jewelry/Bracelets   14497   29.697938   \n",
       "760                                  Men/Shoes/Athletic   14257   66.526128   \n",
       "687                       Kids/Toys/Dolls & Accessories   13957   26.984882   \n",
       "1276                  Women/Women's Accessories/Wallets   13616   34.854473   \n",
       "1176                           Women/Jeans/Slim, Skinny   13392   21.618802   \n",
       "485                  Home/Home Décor/Home Décor Accents   13004   22.185020   \n",
       "1253                           Women/Swimwear/Two-Piece   12758   21.988086   \n",
       "1203                               Women/Shoes/Athletic   12662   43.927421   \n",
       "683                  Kids/Toys/Action Figures & Statues   12524   24.912967   \n",
       "1180                             Women/Jewelry/Earrings   11932   25.786331   \n",
       "1182                                Women/Jewelry/Rings   10650   32.957465   \n",
       "1239                              Women/Sweaters/Hooded   10480   25.681870   \n",
       "1205                       Women/Shoes/Fashion Sneakers   10164   35.300964   \n",
       "35                                Beauty/Skin Care/Body   10010   18.319580   \n",
       "\n",
       "      description_mean  \n",
       "1137        119.468618  \n",
       "1260        106.991570  \n",
       "27          162.659677  \n",
       "28          180.425825  \n",
       "112         106.399179  \n",
       "26          202.034821  \n",
       "79          222.032380  \n",
       "1265        153.820391  \n",
       "1261        112.636709  \n",
       "1254        114.427233  \n",
       "1161        129.204561  \n",
       "1181        170.998937  \n",
       "1139         99.809709  \n",
       "29          177.734440  \n",
       "1204        137.932570  \n",
       "11          134.850762  \n",
       "37          220.229919  \n",
       "1285        142.592184  \n",
       "808          94.590349  \n",
       "1164        121.200542  \n",
       "1138        106.303773  \n",
       "1213        107.206111  \n",
       "1179        139.070980  \n",
       "760         100.229501  \n",
       "687         125.278427  \n",
       "1276        127.306184  \n",
       "1176        108.932945  \n",
       "485         155.468856  \n",
       "1253        132.019047  \n",
       "1203        114.966751  \n",
       "683         114.957282  \n",
       "1180        155.927003  \n",
       "1182        182.961972  \n",
       "1239        111.552385  \n",
       "1205        106.969500  \n",
       "35          175.203596  "
      ]
     },
     "execution_count": 7,
     "metadata": {},
     "output_type": "execute_result"
    }
   ],
   "source": [
    "count_df.sort_values(by=['counts'], inplace=True, ascending=False)\n",
    "count_df[['category_name', 'counts', 'price_mean', 'description_mean']]"
   ]
  },
  {
   "cell_type": "code",
   "execution_count": 6,
   "metadata": {},
   "outputs": [
    {
     "name": "stderr",
     "output_type": "stream",
     "text": [
      "/usr/local/lib/python3.6/site-packages/matplotlib/axes/_axes.py:6462: UserWarning: The 'normed' kwarg is deprecated, and has been replaced by the 'density' kwarg.\n",
      "  warnings.warn(\"The 'normed' kwarg is deprecated, and has been \"\n",
      "/usr/local/lib/python3.6/site-packages/matplotlib/axes/_axes.py:6462: UserWarning: The 'normed' kwarg is deprecated, and has been replaced by the 'density' kwarg.\n",
      "  warnings.warn(\"The 'normed' kwarg is deprecated, and has been \"\n"
     ]
    },
    {
     "data": {
      "image/png": "[encoded data removed]",
      "text/plain": [
       "<Figure size 432x432 with 3 Axes>"
      ]
     },
     "metadata": {},
     "output_type": "display_data"
    }
   ],
   "source": [
    "_ = sns.jointplot('counts', 'price_mean', count_df)"
   ]
  },
  {
   "cell_type": "code",
   "execution_count": 7,
   "metadata": {
    "scrolled": true
   },
   "outputs": [
    {
     "name": "stderr",
     "output_type": "stream",
     "text": [
      "/usr/local/lib/python3.6/site-packages/matplotlib/axes/_axes.py:6462: UserWarning: The 'normed' kwarg is deprecated, and has been replaced by the 'density' kwarg.\n",
      "  warnings.warn(\"The 'normed' kwarg is deprecated, and has been \"\n",
      "/usr/local/lib/python3.6/site-packages/matplotlib/axes/_axes.py:6462: UserWarning: The 'normed' kwarg is deprecated, and has been replaced by the 'density' kwarg.\n",
      "  warnings.warn(\"The 'normed' kwarg is deprecated, and has been \"\n"
     ]
    },
    {
     "data": {
      "image/png": "[encoded data removed]",
      "text/plain": [
       "<Figure size 432x432 with 3 Axes>"
      ]
     },
     "metadata": {},
     "output_type": "display_data"
    }
   ],
   "source": [
    "_ = sns.jointplot('description_mean', 'price_mean', count_df)\n",
    "# Inference stat correlation"
   ]
  },
  {
   "cell_type": "code",
   "execution_count": 8,
   "metadata": {
    "scrolled": true
   },
   "outputs": [
    {
     "data": {
      "image/png": "[encoded data removed]",
      "text/plain": [
       "<Figure size 540x540 with 12 Axes>"
      ]
     },
     "metadata": {},
     "output_type": "display_data"
    }
   ],
   "source": [
    "_ = sns.pairplot(count_df[['counts', 'price_mean', 'description_mean']], kind='reg')"
   ]
  },
  {
   "cell_type": "code",
   "execution_count": 11,
   "metadata": {},
   "outputs": [
    {
     "data": {
      "text/plain": [
       "category_name       Electronics/Video Games & Consoles/Games\n",
       "counts                                                 26557\n",
       "price_mean                                           24.1197\n",
       "description_mean                                     106.399\n",
       "count_10k                                                  1\n",
       "Name: 112, dtype: object"
      ]
     },
     "execution_count": 11,
     "metadata": {},
     "output_type": "execute_result"
    }
   ],
   "source": [
    "count_df.loc[112]"
   ]
  },
  {
   "cell_type": "code",
   "execution_count": 12,
   "metadata": {},
   "outputs": [
    {
     "data": {
      "text/html": [
       "<div>\n",
       "<style scoped>\n",
       "    .dataframe tbody tr th:only-of-type {\n",
       "        vertical-align: middle;\n",
       "    }\n",
       "\n",
       "    .dataframe tbody tr th {\n",
       "        vertical-align: top;\n",
       "    }\n",
       "\n",
       "    .dataframe thead th {\n",
       "        text-align: right;\n",
       "    }\n",
       "</style>\n",
       "<table border=\"1\" class=\"dataframe\">\n",
       "  <thead>\n",
       "    <tr style=\"text-align: right;\">\n",
       "      <th></th>\n",
       "      <th>name</th>\n",
       "      <th>item_condition_id</th>\n",
       "      <th>category_name</th>\n",
       "      <th>brand_name</th>\n",
       "      <th>price</th>\n",
       "      <th>shipping</th>\n",
       "      <th>item_description</th>\n",
       "      <th>description_len</th>\n",
       "    </tr>\n",
       "    <tr>\n",
       "      <th>train_id</th>\n",
       "      <th></th>\n",
       "      <th></th>\n",
       "      <th></th>\n",
       "      <th></th>\n",
       "      <th></th>\n",
       "      <th></th>\n",
       "      <th></th>\n",
       "      <th></th>\n",
       "    </tr>\n",
       "  </thead>\n",
       "  <tbody>\n",
       "    <tr>\n",
       "      <th>91</th>\n",
       "      <td>Goosebumps HorrorLand DS Game</td>\n",
       "      <td>3</td>\n",
       "      <td>Electronics/Video Games &amp; Consoles/Games</td>\n",
       "      <td>Nintendo</td>\n",
       "      <td>10.0</td>\n",
       "      <td>0</td>\n",
       "      <td>Good used condition. Ask about bundling to save.</td>\n",
       "      <td>48.0</td>\n",
       "    </tr>\n",
       "    <tr>\n",
       "      <th>177</th>\n",
       "      <td>NBA 2k14 BRAND NEW SEALED</td>\n",
       "      <td>1</td>\n",
       "      <td>Electronics/Video Games &amp; Consoles/Games</td>\n",
       "      <td>Sony</td>\n",
       "      <td>6.0</td>\n",
       "      <td>1</td>\n",
       "      <td>I am a first time seller located in California...</td>\n",
       "      <td>159.0</td>\n",
       "    </tr>\n",
       "    <tr>\n",
       "      <th>233</th>\n",
       "      <td>Rockstar Bundle (Xbox 360 / One)</td>\n",
       "      <td>1</td>\n",
       "      <td>Electronics/Video Games &amp; Consoles/Games</td>\n",
       "      <td>Xbox</td>\n",
       "      <td>38.0</td>\n",
       "      <td>1</td>\n",
       "      <td>Brand New! Factory Sealed! Fast &amp; Free Shippin...</td>\n",
       "      <td>164.0</td>\n",
       "    </tr>\n",
       "    <tr>\n",
       "      <th>237</th>\n",
       "      <td>Lego Harry Potter Years 1-4 Wii</td>\n",
       "      <td>2</td>\n",
       "      <td>Electronics/Video Games &amp; Consoles/Games</td>\n",
       "      <td>Nintendo</td>\n",
       "      <td>19.0</td>\n",
       "      <td>0</td>\n",
       "      <td>Lego Harry Potter Years 1-4 Wii E10+ Warner Br...</td>\n",
       "      <td>59.0</td>\n",
       "    </tr>\n",
       "    <tr>\n",
       "      <th>276</th>\n",
       "      <td>Nintendo 64</td>\n",
       "      <td>3</td>\n",
       "      <td>Electronics/Video Games &amp; Consoles/Games</td>\n",
       "      <td>Nintendo</td>\n",
       "      <td>124.0</td>\n",
       "      <td>0</td>\n",
       "      <td>Here I have a Nintendo 64 old school Everythin...</td>\n",
       "      <td>276.0</td>\n",
       "    </tr>\n",
       "  </tbody>\n",
       "</table>\n",
       "</div>"
      ],
      "text/plain": [
       "                                      name  item_condition_id  \\\n",
       "train_id                                                        \n",
       "91           Goosebumps HorrorLand DS Game                  3   \n",
       "177              NBA 2k14 BRAND NEW SEALED                  1   \n",
       "233       Rockstar Bundle (Xbox 360 / One)                  1   \n",
       "237        Lego Harry Potter Years 1-4 Wii                  2   \n",
       "276                            Nintendo 64                  3   \n",
       "\n",
       "                                     category_name brand_name  price  \\\n",
       "train_id                                                               \n",
       "91        Electronics/Video Games & Consoles/Games   Nintendo   10.0   \n",
       "177       Electronics/Video Games & Consoles/Games       Sony    6.0   \n",
       "233       Electronics/Video Games & Consoles/Games       Xbox   38.0   \n",
       "237       Electronics/Video Games & Consoles/Games   Nintendo   19.0   \n",
       "276       Electronics/Video Games & Consoles/Games   Nintendo  124.0   \n",
       "\n",
       "          shipping                                   item_description  \\\n",
       "train_id                                                                \n",
       "91               0   Good used condition. Ask about bundling to save.   \n",
       "177              1  I am a first time seller located in California...   \n",
       "233              1  Brand New! Factory Sealed! Fast & Free Shippin...   \n",
       "237              0  Lego Harry Potter Years 1-4 Wii E10+ Warner Br...   \n",
       "276              0  Here I have a Nintendo 64 old school Everythin...   \n",
       "\n",
       "          description_len  \n",
       "train_id                   \n",
       "91                   48.0  \n",
       "177                 159.0  \n",
       "233                 164.0  \n",
       "237                  59.0  \n",
       "276                 276.0  "
      ]
     },
     "execution_count": 12,
     "metadata": {},
     "output_type": "execute_result"
    }
   ],
   "source": [
    "pre_aggregation_rules = lambda row: pd.Series([\n",
    "   int(row['category_name'] == 'Electronics/Video Games & Consoles/Games')\n",
    "])\n",
    "df['category_name']=df['category_name'].fillna('NA')\n",
    "selected_df = df[df['category_name'].str.match('Electronics/Video Games & Consoles/Games')]\n",
    "selected_df.head()"
   ]
  },
  {
   "cell_type": "code",
   "execution_count": 11,
   "metadata": {},
   "outputs": [
    {
     "ename": "NameError",
     "evalue": "name 'selected_df' is not defined",
     "output_type": "error",
     "traceback": [
      "\u001b[0;31m---------------------------------------------------------------------------\u001b[0m",
      "\u001b[0;31mNameError\u001b[0m                                 Traceback (most recent call last)",
      "\u001b[0;32m<ipython-input-11-215b9c2c98e3>\u001b[0m in \u001b[0;36m<module>\u001b[0;34m()\u001b[0m\n\u001b[0;32m----> 1\u001b[0;31m \u001b[0m_\u001b[0m \u001b[0;34m=\u001b[0m \u001b[0msns\u001b[0m\u001b[0;34m.\u001b[0m\u001b[0mpairplot\u001b[0m\u001b[0;34m(\u001b[0m\u001b[0mselected_df\u001b[0m\u001b[0;34m[\u001b[0m\u001b[0;34m[\u001b[0m\u001b[0;34m'price'\u001b[0m\u001b[0;34m,\u001b[0m \u001b[0;34m'description_len'\u001b[0m\u001b[0;34m,\u001b[0m \u001b[0;34m'item_condition_id'\u001b[0m\u001b[0;34m]\u001b[0m\u001b[0;34m]\u001b[0m\u001b[0;34m,\u001b[0m \u001b[0mkind\u001b[0m\u001b[0;34m=\u001b[0m\u001b[0;34m'reg'\u001b[0m\u001b[0;34m)\u001b[0m\u001b[0;34m\u001b[0m\u001b[0m\n\u001b[0m",
      "\u001b[0;31mNameError\u001b[0m: name 'selected_df' is not defined"
     ]
    }
   ],
   "source": [
    "_ = sns.pairplot(selected_df[['price', 'description_len', 'item_condition_id']], kind='reg')"
   ]
  },
  {
   "cell_type": "code",
   "execution_count": 10,
   "metadata": {},
   "outputs": [
    {
     "ename": "NameError",
     "evalue": "name 'selected_df' is not defined",
     "output_type": "error",
     "traceback": [
      "\u001b[0;31m---------------------------------------------------------------------------\u001b[0m",
      "\u001b[0;31mNameError\u001b[0m                                 Traceback (most recent call last)",
      "\u001b[0;32m<ipython-input-10-e92e12d9f15e>\u001b[0m in \u001b[0;36m<module>\u001b[0;34m()\u001b[0m\n\u001b[0;32m----> 1\u001b[0;31m \u001b[0mdf_related\u001b[0m \u001b[0;34m=\u001b[0m \u001b[0mselected_df\u001b[0m\u001b[0;34m[\u001b[0m\u001b[0;34m[\u001b[0m\u001b[0;34m'price'\u001b[0m\u001b[0;34m,\u001b[0m \u001b[0;34m'description_len'\u001b[0m\u001b[0;34m,\u001b[0m \u001b[0;34m'item_condition_id'\u001b[0m\u001b[0;34m]\u001b[0m\u001b[0;34m]\u001b[0m\u001b[0;34m\u001b[0m\u001b[0m\n\u001b[0m",
      "\u001b[0;31mNameError\u001b[0m: name 'selected_df' is not defined"
     ]
    }
   ],
   "source": [
    "df_related = selected_df[['price', 'description_len', 'item_condition_id']]"
   ]
  },
  {
   "cell_type": "code",
   "execution_count": 9,
   "metadata": {},
   "outputs": [
    {
     "ename": "NameError",
     "evalue": "name 'df_related' is not defined",
     "output_type": "error",
     "traceback": [
      "\u001b[0;31m---------------------------------------------------------------------------\u001b[0m",
      "\u001b[0;31mNameError\u001b[0m                                 Traceback (most recent call last)",
      "\u001b[0;32m<ipython-input-9-b0e6475624eb>\u001b[0m in \u001b[0;36m<module>\u001b[0;34m()\u001b[0m\n\u001b[1;32m      1\u001b[0m \u001b[0;34m\u001b[0m\u001b[0m\n\u001b[0;32m----> 2\u001b[0;31m \u001b[0m_\u001b[0m \u001b[0;34m=\u001b[0m \u001b[0msns\u001b[0m\u001b[0;34m.\u001b[0m\u001b[0mpairplot\u001b[0m\u001b[0;34m(\u001b[0m\u001b[0mdf_related\u001b[0m\u001b[0;34m[\u001b[0m\u001b[0mdf_related\u001b[0m\u001b[0;34m[\u001b[0m\u001b[0;34m'price'\u001b[0m\u001b[0;34m]\u001b[0m \u001b[0;34m<\u001b[0m \u001b[0;36m50\u001b[0m\u001b[0;34m]\u001b[0m\u001b[0;34m,\u001b[0m \u001b[0mkind\u001b[0m\u001b[0;34m=\u001b[0m\u001b[0;34m'reg'\u001b[0m\u001b[0;34m)\u001b[0m\u001b[0;34m\u001b[0m\u001b[0m\n\u001b[0m",
      "\u001b[0;31mNameError\u001b[0m: name 'df_related' is not defined"
     ]
    }
   ],
   "source": [
    "\n",
    "_ = sns.pairplot(df_related[df_related['price'] < 50], kind='reg')"
   ]
  }
 ],
 "metadata": {
  "kernelspec": {
   "display_name": "Python 3",
   "language": "python",
   "name": "python3"
  },
  "language_info": {
   "codemirror_mode": {
    "name": "ipython",
    "version": 3
   },
   "file_extension": ".py",
   "mimetype": "text/x-python",
   "name": "python",
   "nbconvert_exporter": "python",
   "pygments_lexer": "ipython3",
   "version": "3.6.5"
  },
  "varInspector": {
   "cols": {
    "lenName": 16,
    "lenType": 16,
    "lenVar": 40
   },
   "kernels_config": {
    "python": {
     "delete_cmd_postfix": "",
     "delete_cmd_prefix": "del ",
     "library": "var_list.py",
     "varRefreshCmd": "print(var_dic_list())"
    },
    "r": {
     "delete_cmd_postfix": ") ",
     "delete_cmd_prefix": "rm(",
     "library": "var_list.r",
     "varRefreshCmd": "cat(var_dic_list()) "
    }
   },
   "types_to_exclude": [
    "module",
    "function",
    "builtin_function_or_method",
    "instance",
    "_Feature"
   ],
   "window_display": false
  }
 },
 "nbformat": 4,
 "nbformat_minor": 2
}
