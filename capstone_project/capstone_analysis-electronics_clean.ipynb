{
 "cells": [
  {
   "cell_type": "code",
   "execution_count": 65,
   "metadata": {
    "hide_input": true
   },
   "outputs": [],
   "source": [
    "from dask.distributed import Client, LocalCluster, progress\n",
    "import dask.dataframe as dd\n",
    "import dask.array as da\n",
    "import seaborn as sns\n",
    "import matplotlib.pyplot as plt\n"
   ]
  },
  {
   "cell_type": "code",
   "execution_count": 3,
   "metadata": {},
   "outputs": [
    {
     "data": {
      "text/html": [
       "<table style=\"border: 2px solid white;\">\n",
       "<tr>\n",
       "<td style=\"vertical-align: top; border: 0px solid white\">\n",
       "<h3>Client</h3>\n",
       "<ul>\n",
       "  <li><b>Scheduler: </b>tcp://127.0.0.1:63443\n",
       "  <li><b>Dashboard: </b><a href='http://127.0.0.1:8787/status' target='_blank'>http://127.0.0.1:8787/status</a>\n",
       "</ul>\n",
       "</td>\n",
       "<td style=\"vertical-align: top; border: 0px solid white\">\n",
       "<h3>Cluster</h3>\n",
       "<ul>\n",
       "  <li><b>Workers: </b>4</li>\n",
       "  <li><b>Cores: </b>4</li>\n",
       "  <li><b>Memory: </b>17.18 GB</li>\n",
       "</ul>\n",
       "</td>\n",
       "</tr>\n",
       "</table>"
      ],
      "text/plain": [
       "<Client: scheduler='tcp://127.0.0.1:63443' processes=4 cores=4>"
      ]
     },
     "execution_count": 3,
     "metadata": {},
     "output_type": "execute_result"
    }
   ],
   "source": [
    "sns.set()\n",
    "cluster = LocalCluster()\n",
    "c = Client(cluster) #Client('dask-scheduler:8786')\n",
    "c"
   ]
  },
  {
   "cell_type": "code",
   "execution_count": 4,
   "metadata": {},
   "outputs": [
    {
     "data": {
      "application/vnd.jupyter.widget-view+json": {
       "model_id": "55d22195699945aaa87398488afe2420",
       "version_major": 2,
       "version_minor": 0
      },
      "text/plain": [
       "VBox()"
      ]
     },
     "metadata": {},
     "output_type": "display_data"
    }
   ],
   "source": [
    "df = dd.read_csv('data/train.tsv', sep='\\t').persist()\n",
    "#df.set_index('train_id')\n",
    "progress(df)"
   ]
  },
  {
   "cell_type": "code",
   "execution_count": 5,
   "metadata": {},
   "outputs": [
    {
     "name": "stdout",
     "output_type": "stream",
     "text": [
      "<class 'dask.dataframe.core.DataFrame'>\n",
      "Columns: 8 entries, train_id to item_description\n",
      "dtypes: object(4), float64(1), int64(3)"
     ]
    }
   ],
   "source": [
    "df.info()"
   ]
  },
  {
   "cell_type": "code",
   "execution_count": 6,
   "metadata": {},
   "outputs": [
    {
     "name": "stdout",
     "output_type": "stream",
     "text": [
      "CPU times: user 350 ms, sys: 58.9 ms, total: 409 ms\n",
      "Wall time: 4.67 s\n"
     ]
    },
    {
     "data": {
      "text/html": [
       "<div>\n",
       "<style scoped>\n",
       "    .dataframe tbody tr th:only-of-type {\n",
       "        vertical-align: middle;\n",
       "    }\n",
       "\n",
       "    .dataframe tbody tr th {\n",
       "        vertical-align: top;\n",
       "    }\n",
       "\n",
       "    .dataframe thead th {\n",
       "        text-align: right;\n",
       "    }\n",
       "</style>\n",
       "<table border=\"1\" class=\"dataframe\">\n",
       "  <thead>\n",
       "    <tr style=\"text-align: right;\">\n",
       "      <th></th>\n",
       "      <th>name</th>\n",
       "      <th>item_condition_id</th>\n",
       "      <th>category_name</th>\n",
       "      <th>brand_name</th>\n",
       "      <th>price</th>\n",
       "      <th>shipping</th>\n",
       "      <th>item_description</th>\n",
       "    </tr>\n",
       "    <tr>\n",
       "      <th>train_id</th>\n",
       "      <th></th>\n",
       "      <th></th>\n",
       "      <th></th>\n",
       "      <th></th>\n",
       "      <th></th>\n",
       "      <th></th>\n",
       "      <th></th>\n",
       "    </tr>\n",
       "  </thead>\n",
       "  <tbody>\n",
       "    <tr>\n",
       "      <th>0</th>\n",
       "      <td>MLB Cincinnati Reds T Shirt Size XL</td>\n",
       "      <td>3</td>\n",
       "      <td>Men/Tops/T-shirts</td>\n",
       "      <td>NaN</td>\n",
       "      <td>10.0</td>\n",
       "      <td>1</td>\n",
       "      <td>No description yet</td>\n",
       "    </tr>\n",
       "    <tr>\n",
       "      <th>1</th>\n",
       "      <td>Razer BlackWidow Chroma Keyboard</td>\n",
       "      <td>3</td>\n",
       "      <td>Electronics/Computers &amp; Tablets/Components &amp; P...</td>\n",
       "      <td>Razer</td>\n",
       "      <td>52.0</td>\n",
       "      <td>0</td>\n",
       "      <td>This keyboard is in great condition and works ...</td>\n",
       "    </tr>\n",
       "    <tr>\n",
       "      <th>2</th>\n",
       "      <td>AVA-VIV Blouse</td>\n",
       "      <td>1</td>\n",
       "      <td>Women/Tops &amp; Blouses/Blouse</td>\n",
       "      <td>Target</td>\n",
       "      <td>10.0</td>\n",
       "      <td>1</td>\n",
       "      <td>Adorable top with a hint of lace and a key hol...</td>\n",
       "    </tr>\n",
       "    <tr>\n",
       "      <th>3</th>\n",
       "      <td>Leather Horse Statues</td>\n",
       "      <td>1</td>\n",
       "      <td>Home/Home Décor/Home Décor Accents</td>\n",
       "      <td>NaN</td>\n",
       "      <td>35.0</td>\n",
       "      <td>1</td>\n",
       "      <td>New with tags. Leather horses. Retail for [rm]...</td>\n",
       "    </tr>\n",
       "    <tr>\n",
       "      <th>4</th>\n",
       "      <td>24K GOLD plated rose</td>\n",
       "      <td>1</td>\n",
       "      <td>Women/Jewelry/Necklaces</td>\n",
       "      <td>NaN</td>\n",
       "      <td>44.0</td>\n",
       "      <td>0</td>\n",
       "      <td>Complete with certificate of authenticity</td>\n",
       "    </tr>\n",
       "  </tbody>\n",
       "</table>\n",
       "</div>"
      ],
      "text/plain": [
       "                                         name  item_condition_id  \\\n",
       "train_id                                                           \n",
       "0         MLB Cincinnati Reds T Shirt Size XL                  3   \n",
       "1            Razer BlackWidow Chroma Keyboard                  3   \n",
       "2                              AVA-VIV Blouse                  1   \n",
       "3                       Leather Horse Statues                  1   \n",
       "4                        24K GOLD plated rose                  1   \n",
       "\n",
       "                                              category_name brand_name  price  \\\n",
       "train_id                                                                        \n",
       "0                                         Men/Tops/T-shirts        NaN   10.0   \n",
       "1         Electronics/Computers & Tablets/Components & P...      Razer   52.0   \n",
       "2                               Women/Tops & Blouses/Blouse     Target   10.0   \n",
       "3                        Home/Home Décor/Home Décor Accents        NaN   35.0   \n",
       "4                                   Women/Jewelry/Necklaces        NaN   44.0   \n",
       "\n",
       "          shipping                                   item_description  \n",
       "train_id                                                               \n",
       "0                1                                 No description yet  \n",
       "1                0  This keyboard is in great condition and works ...  \n",
       "2                1  Adorable top with a hint of lace and a key hol...  \n",
       "3                1  New with tags. Leather horses. Retail for [rm]...  \n",
       "4                0          Complete with certificate of authenticity  "
      ]
     },
     "execution_count": 6,
     "metadata": {},
     "output_type": "execute_result"
    }
   ],
   "source": [
    "%time df.set_index('train_id').head()"
   ]
  },
  {
   "cell_type": "code",
   "execution_count": 7,
   "metadata": {},
   "outputs": [
    {
     "data": {
      "text/plain": [
       "category_name        1\n",
       "price                1\n",
       "name                 1\n",
       "shipping             1\n",
       "train_id             1\n",
       "item_condition_id    1\n",
       "item_description     1\n",
       "brand_name           1\n",
       "dtype: int64"
      ]
     },
     "execution_count": 7,
     "metadata": {},
     "output_type": "execute_result"
    }
   ],
   "source": [
    "df.columns.value_counts()"
   ]
  },
  {
   "cell_type": "markdown",
   "metadata": {},
   "source": [
    "# Clean the data\n",
    "\n",
    "Set a flag for missing data. **Category, description and brand** are the fields considered as relevant.\n",
    "\n"
   ]
  },
  {
   "cell_type": "code",
   "execution_count": 8,
   "metadata": {},
   "outputs": [],
   "source": [
    "df['brand_name'] = df['brand_name'].fillna('NotSet')\n",
    "df['category_name'] = df['category_name'].fillna('NotSet')\n",
    "df['item_description'] = df['item_description'].mask(\n",
    "    df['item_description'] == 'No description yet', 'NotSet')"
   ]
  },
  {
   "cell_type": "code",
   "execution_count": 9,
   "metadata": {},
   "outputs": [
    {
     "data": {
      "text/html": [
       "<div>\n",
       "<style scoped>\n",
       "    .dataframe tbody tr th:only-of-type {\n",
       "        vertical-align: middle;\n",
       "    }\n",
       "\n",
       "    .dataframe tbody tr th {\n",
       "        vertical-align: top;\n",
       "    }\n",
       "\n",
       "    .dataframe thead th {\n",
       "        text-align: right;\n",
       "    }\n",
       "</style>\n",
       "<table border=\"1\" class=\"dataframe\">\n",
       "  <thead>\n",
       "    <tr style=\"text-align: right;\">\n",
       "      <th></th>\n",
       "      <th>train_id</th>\n",
       "      <th>name</th>\n",
       "      <th>item_condition_id</th>\n",
       "      <th>category_name</th>\n",
       "      <th>brand_name</th>\n",
       "      <th>price</th>\n",
       "      <th>shipping</th>\n",
       "      <th>item_description</th>\n",
       "    </tr>\n",
       "  </thead>\n",
       "  <tbody>\n",
       "    <tr>\n",
       "      <th>91</th>\n",
       "      <td>91</td>\n",
       "      <td>Goosebumps HorrorLand DS Game</td>\n",
       "      <td>3</td>\n",
       "      <td>Electronics/Video Games &amp; Consoles/Games</td>\n",
       "      <td>Nintendo</td>\n",
       "      <td>10.0</td>\n",
       "      <td>0</td>\n",
       "      <td>Good used condition. Ask about bundling to save.</td>\n",
       "    </tr>\n",
       "    <tr>\n",
       "      <th>177</th>\n",
       "      <td>177</td>\n",
       "      <td>NBA 2k14 BRAND NEW SEALED</td>\n",
       "      <td>1</td>\n",
       "      <td>Electronics/Video Games &amp; Consoles/Games</td>\n",
       "      <td>Sony</td>\n",
       "      <td>6.0</td>\n",
       "      <td>1</td>\n",
       "      <td>I am a first time seller located in California...</td>\n",
       "    </tr>\n",
       "    <tr>\n",
       "      <th>233</th>\n",
       "      <td>233</td>\n",
       "      <td>Rockstar Bundle (Xbox 360 / One)</td>\n",
       "      <td>1</td>\n",
       "      <td>Electronics/Video Games &amp; Consoles/Games</td>\n",
       "      <td>Xbox</td>\n",
       "      <td>38.0</td>\n",
       "      <td>1</td>\n",
       "      <td>Brand New! Factory Sealed! Fast &amp; Free Shippin...</td>\n",
       "    </tr>\n",
       "    <tr>\n",
       "      <th>237</th>\n",
       "      <td>237</td>\n",
       "      <td>Lego Harry Potter Years 1-4 Wii</td>\n",
       "      <td>2</td>\n",
       "      <td>Electronics/Video Games &amp; Consoles/Games</td>\n",
       "      <td>Nintendo</td>\n",
       "      <td>19.0</td>\n",
       "      <td>0</td>\n",
       "      <td>Lego Harry Potter Years 1-4 Wii E10+ Warner Br...</td>\n",
       "    </tr>\n",
       "    <tr>\n",
       "      <th>276</th>\n",
       "      <td>276</td>\n",
       "      <td>Nintendo 64</td>\n",
       "      <td>3</td>\n",
       "      <td>Electronics/Video Games &amp; Consoles/Games</td>\n",
       "      <td>Nintendo</td>\n",
       "      <td>124.0</td>\n",
       "      <td>0</td>\n",
       "      <td>Here I have a Nintendo 64 old school Everythin...</td>\n",
       "    </tr>\n",
       "  </tbody>\n",
       "</table>\n",
       "</div>"
      ],
      "text/plain": [
       "     train_id                              name  item_condition_id  \\\n",
       "91         91     Goosebumps HorrorLand DS Game                  3   \n",
       "177       177         NBA 2k14 BRAND NEW SEALED                  1   \n",
       "233       233  Rockstar Bundle (Xbox 360 / One)                  1   \n",
       "237       237   Lego Harry Potter Years 1-4 Wii                  2   \n",
       "276       276                       Nintendo 64                  3   \n",
       "\n",
       "                                category_name brand_name  price  shipping  \\\n",
       "91   Electronics/Video Games & Consoles/Games   Nintendo   10.0         0   \n",
       "177  Electronics/Video Games & Consoles/Games       Sony    6.0         1   \n",
       "233  Electronics/Video Games & Consoles/Games       Xbox   38.0         1   \n",
       "237  Electronics/Video Games & Consoles/Games   Nintendo   19.0         0   \n",
       "276  Electronics/Video Games & Consoles/Games   Nintendo  124.0         0   \n",
       "\n",
       "                                      item_description  \n",
       "91    Good used condition. Ask about bundling to save.  \n",
       "177  I am a first time seller located in California...  \n",
       "233  Brand New! Factory Sealed! Fast & Free Shippin...  \n",
       "237  Lego Harry Potter Years 1-4 Wii E10+ Warner Br...  \n",
       "276  Here I have a Nintendo 64 old school Everythin...  "
      ]
     },
     "execution_count": 9,
     "metadata": {},
     "output_type": "execute_result"
    }
   ],
   "source": [
    "#import pandas as pd\n",
    "#df = pd.read_csv('data/train.tsv', sep='\\t', index_col='train_id')\n",
    "# Electronics/Video Games & Consoles/Games\n",
    "df_electronics_game = df[df['category_name'].str.contains('Video Game')]\n",
    "df_electronics = df[df['category_name'] == 'Electronics/Video Games & Consoles/Games']\n",
    "df_electronics.head()"
   ]
  },
  {
   "cell_type": "markdown",
   "metadata": {},
   "source": [
    "#### Is \"Video Game\" a token relevant for all other related categories?"
   ]
  },
  {
   "cell_type": "code",
   "execution_count": 10,
   "metadata": {},
   "outputs": [
    {
     "data": {
      "text/html": [
       "<div>\n",
       "<style scoped>\n",
       "    .dataframe tbody tr th:only-of-type {\n",
       "        vertical-align: middle;\n",
       "    }\n",
       "\n",
       "    .dataframe tbody tr th {\n",
       "        vertical-align: top;\n",
       "    }\n",
       "\n",
       "    .dataframe thead th {\n",
       "        text-align: right;\n",
       "    }\n",
       "</style>\n",
       "<table border=\"1\" class=\"dataframe\">\n",
       "  <thead>\n",
       "    <tr style=\"text-align: right;\">\n",
       "      <th></th>\n",
       "      <th>index</th>\n",
       "      <th>category_name</th>\n",
       "    </tr>\n",
       "  </thead>\n",
       "  <tbody>\n",
       "    <tr>\n",
       "      <th>0</th>\n",
       "      <td>0</td>\n",
       "      <td>Electronics/Video Games &amp; Consoles/Consoles</td>\n",
       "    </tr>\n",
       "    <tr>\n",
       "      <th>1</th>\n",
       "      <td>1</td>\n",
       "      <td>Electronics/Video Games &amp; Consoles/Games</td>\n",
       "    </tr>\n",
       "    <tr>\n",
       "      <th>2</th>\n",
       "      <td>2</td>\n",
       "      <td>Electronics/Video Games &amp; Consoles/Video Gamin...</td>\n",
       "    </tr>\n",
       "    <tr>\n",
       "      <th>3</th>\n",
       "      <td>3</td>\n",
       "      <td>Vintage &amp; Collectibles/Electronics/Video Game</td>\n",
       "    </tr>\n",
       "    <tr>\n",
       "      <th>4</th>\n",
       "      <td>4</td>\n",
       "      <td>Electronics/Video Games &amp; Consoles/Accessories</td>\n",
       "    </tr>\n",
       "    <tr>\n",
       "      <th>5</th>\n",
       "      <td>5</td>\n",
       "      <td>Electronics/Video Games &amp; Consoles/Other</td>\n",
       "    </tr>\n",
       "    <tr>\n",
       "      <th>6</th>\n",
       "      <td>6</td>\n",
       "      <td>Electronics/Video Games &amp; Consoles/Strategy Gu...</td>\n",
       "    </tr>\n",
       "    <tr>\n",
       "      <th>7</th>\n",
       "      <td>7</td>\n",
       "      <td>Electronics/Video Games &amp; Consoles/Replacement...</td>\n",
       "    </tr>\n",
       "  </tbody>\n",
       "</table>\n",
       "</div>"
      ],
      "text/plain": [
       "   index                                      category_name\n",
       "0      0        Electronics/Video Games & Consoles/Consoles\n",
       "1      1           Electronics/Video Games & Consoles/Games\n",
       "2      2  Electronics/Video Games & Consoles/Video Gamin...\n",
       "3      3      Vintage & Collectibles/Electronics/Video Game\n",
       "4      4     Electronics/Video Games & Consoles/Accessories\n",
       "5      5           Electronics/Video Games & Consoles/Other\n",
       "6      6  Electronics/Video Games & Consoles/Strategy Gu...\n",
       "7      7  Electronics/Video Games & Consoles/Replacement..."
      ]
     },
     "execution_count": 10,
     "metadata": {},
     "output_type": "execute_result"
    }
   ],
   "source": [
    "df_electronics_game['category_name'].unique().reset_index().compute()"
   ]
  },
  {
   "cell_type": "markdown",
   "metadata": {},
   "source": [
    "* How does \"Electronics/Video Games & Consoles/Games\", our main category, relate to a more generalized subset using the mentioned token \"Video Game\" in the cae of missing data?"
   ]
  },
  {
   "cell_type": "code",
   "execution_count": 11,
   "metadata": {},
   "outputs": [],
   "source": [
    "df_electronics_brands = df_electronics[[\n",
    "    'train_id', 'brand_name'\n",
    "]].groupby(\n",
    "    'brand_name'\n",
    ").count().compute().sort_values(\n",
    "    by='train_id', ascending=False)\n",
    "\n"
   ]
  },
  {
   "cell_type": "code",
   "execution_count": 12,
   "metadata": {},
   "outputs": [],
   "source": [
    "df_electronics_brands_game = df_electronics_game[[\n",
    "    'train_id', 'brand_name'\n",
    "]].groupby(\n",
    "    'brand_name'\n",
    ").count().compute().sort_values(\n",
    "    by='train_id', ascending=False)\n",
    "\n"
   ]
  },
  {
   "cell_type": "code",
   "execution_count": 13,
   "metadata": {},
   "outputs": [
    {
     "data": {
      "text/html": [
       "<div>\n",
       "<style scoped>\n",
       "    .dataframe tbody tr th:only-of-type {\n",
       "        vertical-align: middle;\n",
       "    }\n",
       "\n",
       "    .dataframe tbody tr th {\n",
       "        vertical-align: top;\n",
       "    }\n",
       "\n",
       "    .dataframe thead th {\n",
       "        text-align: right;\n",
       "    }\n",
       "</style>\n",
       "<table border=\"1\" class=\"dataframe\">\n",
       "  <thead>\n",
       "    <tr style=\"text-align: right;\">\n",
       "      <th></th>\n",
       "      <th></th>\n",
       "      <th>train_id</th>\n",
       "    </tr>\n",
       "    <tr>\n",
       "      <th>brand_name</th>\n",
       "      <th>item_description</th>\n",
       "      <th></th>\n",
       "    </tr>\n",
       "  </thead>\n",
       "  <tbody>\n",
       "    <tr>\n",
       "      <th>NotSet</th>\n",
       "      <th>IsSet</th>\n",
       "      <td>6032</td>\n",
       "    </tr>\n",
       "    <tr>\n",
       "      <th>Nintendo</th>\n",
       "      <th>NotSet</th>\n",
       "      <td>873</td>\n",
       "    </tr>\n",
       "    <tr>\n",
       "      <th>NotSet</th>\n",
       "      <th>NotSet</th>\n",
       "      <td>674</td>\n",
       "    </tr>\n",
       "    <tr>\n",
       "      <th>Sony</th>\n",
       "      <th>NotSet</th>\n",
       "      <td>461</td>\n",
       "    </tr>\n",
       "    <tr>\n",
       "      <th>Xbox</th>\n",
       "      <th>NotSet</th>\n",
       "      <td>401</td>\n",
       "    </tr>\n",
       "    <tr>\n",
       "      <th>Microsoft</th>\n",
       "      <th>NotSet</th>\n",
       "      <td>13</td>\n",
       "    </tr>\n",
       "    <tr>\n",
       "      <th>Konami</th>\n",
       "      <th>NotSet</th>\n",
       "      <td>4</td>\n",
       "    </tr>\n",
       "    <tr>\n",
       "      <th>PlayStation</th>\n",
       "      <th>NotSet</th>\n",
       "      <td>4</td>\n",
       "    </tr>\n",
       "    <tr>\n",
       "      <th>VTech</th>\n",
       "      <th>NotSet</th>\n",
       "      <td>2</td>\n",
       "    </tr>\n",
       "    <tr>\n",
       "      <th>Polk Audio</th>\n",
       "      <th>NotSet</th>\n",
       "      <td>1</td>\n",
       "    </tr>\n",
       "    <tr>\n",
       "      <th>GAME</th>\n",
       "      <th>NotSet</th>\n",
       "      <td>1</td>\n",
       "    </tr>\n",
       "    <tr>\n",
       "      <th>Roku</th>\n",
       "      <th>NotSet</th>\n",
       "      <td>1</td>\n",
       "    </tr>\n",
       "    <tr>\n",
       "      <th>Sega</th>\n",
       "      <th>NotSet</th>\n",
       "      <td>1</td>\n",
       "    </tr>\n",
       "    <tr>\n",
       "      <th>Apple</th>\n",
       "      <th>NotSet</th>\n",
       "      <td>1</td>\n",
       "    </tr>\n",
       "    <tr>\n",
       "      <th>LucasArts Entertainment</th>\n",
       "      <th>NotSet</th>\n",
       "      <td>1</td>\n",
       "    </tr>\n",
       "  </tbody>\n",
       "</table>\n",
       "</div>"
      ],
      "text/plain": [
       "                                          train_id\n",
       "brand_name              item_description          \n",
       "NotSet                  IsSet                 6032\n",
       "Nintendo                NotSet                 873\n",
       "NotSet                  NotSet                 674\n",
       "Sony                    NotSet                 461\n",
       "Xbox                    NotSet                 401\n",
       "Microsoft               NotSet                  13\n",
       "Konami                  NotSet                   4\n",
       "PlayStation             NotSet                   4\n",
       "VTech                   NotSet                   2\n",
       "Polk Audio              NotSet                   1\n",
       "GAME                    NotSet                   1\n",
       "Roku                    NotSet                   1\n",
       "Sega                    NotSet                   1\n",
       "Apple                   NotSet                   1\n",
       "LucasArts Entertainment NotSet                   1"
      ]
     },
     "execution_count": 13,
     "metadata": {},
     "output_type": "execute_result"
    }
   ],
   "source": [
    "df_not_set_electronics = df_electronics[(df_electronics.item_description == 'NotSet') | (df_electronics.brand_name == 'NotSet')]\n",
    "df_not_set_electronics['item_description'] = df_not_set_electronics['item_description'].mask(\n",
    "    df_not_set_electronics['item_description'] != 'NotSet', 'IsSet')\n",
    "\n",
    "\n",
    "df_not_set_electronics = df_not_set_electronics[[\n",
    "    'train_id', 'brand_name', 'item_description'\n",
    "]].groupby([\n",
    "    'brand_name', 'item_description'\n",
    "]).count()\n",
    "\n",
    "df_not_set_electronics.compute().sort_values(\n",
    "    by='train_id', ascending=False)"
   ]
  },
  {
   "cell_type": "code",
   "execution_count": 14,
   "metadata": {},
   "outputs": [
    {
     "data": {
      "text/html": [
       "<div>\n",
       "<style scoped>\n",
       "    .dataframe tbody tr th:only-of-type {\n",
       "        vertical-align: middle;\n",
       "    }\n",
       "\n",
       "    .dataframe tbody tr th {\n",
       "        vertical-align: top;\n",
       "    }\n",
       "\n",
       "    .dataframe thead th {\n",
       "        text-align: right;\n",
       "    }\n",
       "</style>\n",
       "<table border=\"1\" class=\"dataframe\">\n",
       "  <thead>\n",
       "    <tr style=\"text-align: right;\">\n",
       "      <th></th>\n",
       "      <th></th>\n",
       "      <th>train_id</th>\n",
       "    </tr>\n",
       "    <tr>\n",
       "      <th>brand_name</th>\n",
       "      <th>item_description</th>\n",
       "      <th></th>\n",
       "    </tr>\n",
       "  </thead>\n",
       "  <tbody>\n",
       "    <tr>\n",
       "      <th>NotSet</th>\n",
       "      <th>IsSet</th>\n",
       "      <td>8948</td>\n",
       "    </tr>\n",
       "    <tr>\n",
       "      <th>Nintendo</th>\n",
       "      <th>NotSet</th>\n",
       "      <td>1093</td>\n",
       "    </tr>\n",
       "    <tr>\n",
       "      <th>NotSet</th>\n",
       "      <th>NotSet</th>\n",
       "      <td>896</td>\n",
       "    </tr>\n",
       "    <tr>\n",
       "      <th>Sony</th>\n",
       "      <th>NotSet</th>\n",
       "      <td>553</td>\n",
       "    </tr>\n",
       "    <tr>\n",
       "      <th>Xbox</th>\n",
       "      <th>NotSet</th>\n",
       "      <td>508</td>\n",
       "    </tr>\n",
       "    <tr>\n",
       "      <th>Microsoft</th>\n",
       "      <th>NotSet</th>\n",
       "      <td>22</td>\n",
       "    </tr>\n",
       "    <tr>\n",
       "      <th>Razer</th>\n",
       "      <th>NotSet</th>\n",
       "      <td>5</td>\n",
       "    </tr>\n",
       "    <tr>\n",
       "      <th>PlayStation</th>\n",
       "      <th>NotSet</th>\n",
       "      <td>4</td>\n",
       "    </tr>\n",
       "    <tr>\n",
       "      <th>Konami</th>\n",
       "      <th>NotSet</th>\n",
       "      <td>4</td>\n",
       "    </tr>\n",
       "    <tr>\n",
       "      <th>Apple</th>\n",
       "      <th>NotSet</th>\n",
       "      <td>4</td>\n",
       "    </tr>\n",
       "    <tr>\n",
       "      <th>Samsung</th>\n",
       "      <th>NotSet</th>\n",
       "      <td>3</td>\n",
       "    </tr>\n",
       "    <tr>\n",
       "      <th>Logitech</th>\n",
       "      <th>NotSet</th>\n",
       "      <td>2</td>\n",
       "    </tr>\n",
       "    <tr>\n",
       "      <th>Roku</th>\n",
       "      <th>NotSet</th>\n",
       "      <td>2</td>\n",
       "    </tr>\n",
       "    <tr>\n",
       "      <th>VTech</th>\n",
       "      <th>NotSet</th>\n",
       "      <td>2</td>\n",
       "    </tr>\n",
       "    <tr>\n",
       "      <th>LucasArts Entertainment</th>\n",
       "      <th>NotSet</th>\n",
       "      <td>1</td>\n",
       "    </tr>\n",
       "    <tr>\n",
       "      <th>ASUS</th>\n",
       "      <th>NotSet</th>\n",
       "      <td>1</td>\n",
       "    </tr>\n",
       "    <tr>\n",
       "      <th>Sega</th>\n",
       "      <th>NotSet</th>\n",
       "      <td>1</td>\n",
       "    </tr>\n",
       "    <tr>\n",
       "      <th>Bandai</th>\n",
       "      <th>NotSet</th>\n",
       "      <td>1</td>\n",
       "    </tr>\n",
       "    <tr>\n",
       "      <th>Dazzle Multimedia</th>\n",
       "      <th>NotSet</th>\n",
       "      <td>1</td>\n",
       "    </tr>\n",
       "    <tr>\n",
       "      <th>DIRECTV</th>\n",
       "      <th>NotSet</th>\n",
       "      <td>1</td>\n",
       "    </tr>\n",
       "    <tr>\n",
       "      <th>GAME</th>\n",
       "      <th>NotSet</th>\n",
       "      <td>1</td>\n",
       "    </tr>\n",
       "    <tr>\n",
       "      <th>Polk Audio</th>\n",
       "      <th>NotSet</th>\n",
       "      <td>1</td>\n",
       "    </tr>\n",
       "    <tr>\n",
       "      <th>AmazonBasics</th>\n",
       "      <th>NotSet</th>\n",
       "      <td>1</td>\n",
       "    </tr>\n",
       "  </tbody>\n",
       "</table>\n",
       "</div>"
      ],
      "text/plain": [
       "                                          train_id\n",
       "brand_name              item_description          \n",
       "NotSet                  IsSet                 8948\n",
       "Nintendo                NotSet                1093\n",
       "NotSet                  NotSet                 896\n",
       "Sony                    NotSet                 553\n",
       "Xbox                    NotSet                 508\n",
       "Microsoft               NotSet                  22\n",
       "Razer                   NotSet                   5\n",
       "PlayStation             NotSet                   4\n",
       "Konami                  NotSet                   4\n",
       "Apple                   NotSet                   4\n",
       "Samsung                 NotSet                   3\n",
       "Logitech                NotSet                   2\n",
       "Roku                    NotSet                   2\n",
       "VTech                   NotSet                   2\n",
       "LucasArts Entertainment NotSet                   1\n",
       "ASUS                    NotSet                   1\n",
       "Sega                    NotSet                   1\n",
       "Bandai                  NotSet                   1\n",
       "Dazzle Multimedia       NotSet                   1\n",
       "DIRECTV                 NotSet                   1\n",
       "GAME                    NotSet                   1\n",
       "Polk Audio              NotSet                   1\n",
       "AmazonBasics            NotSet                   1"
      ]
     },
     "execution_count": 14,
     "metadata": {},
     "output_type": "execute_result"
    }
   ],
   "source": [
    "df_not_set_electronics_game = df_electronics_game[(df_electronics_game.item_description == 'NotSet') | (df_electronics_game.brand_name == 'NotSet')]\n",
    "df_not_set_electronics_game['item_description'] = df_not_set_electronics_game['item_description'].mask(\n",
    "    df_not_set_electronics_game['item_description'] != 'NotSet', 'IsSet')\n",
    "\n",
    "\n",
    "df_not_set_electronics_game = df_not_set_electronics_game[[\n",
    "    'train_id', 'brand_name', 'item_description'\n",
    "]].groupby([\n",
    "    'brand_name', 'item_description'\n",
    "]).count()\n",
    "\n",
    "df_not_set_electronics_game.compute().sort_values(\n",
    "    by='train_id', ascending=False)"
   ]
  },
  {
   "cell_type": "code",
   "execution_count": 15,
   "metadata": {},
   "outputs": [
    {
     "data": {
      "text/plain": [
       "25.251346161087472"
      ]
     },
     "execution_count": 15,
     "metadata": {},
     "output_type": "execute_result"
    }
   ],
   "source": [
    "df_not_set_electronics_reset = df_not_set_electronics.reset_index()\n",
    "df_not_set_electronics_reset[\n",
    "    df_not_set_electronics_reset.brand_name == 'NotSet'\n",
    "].sum().compute() ['train_id'] * 100 / len(df_electronics)"
   ]
  },
  {
   "cell_type": "code",
   "execution_count": 16,
   "metadata": {},
   "outputs": [
    {
     "data": {
      "text/plain": [
       "25.633414056193526"
      ]
     },
     "execution_count": 16,
     "metadata": {},
     "output_type": "execute_result"
    }
   ],
   "source": [
    "df_not_set_electronics_game_reset = df_not_set_electronics_game.reset_index()\n",
    "df_not_set_electronics_game_reset[\n",
    "    df_not_set_electronics_game_reset.brand_name == 'NotSet'\n",
    "].sum().compute() ['train_id'] * 100 / len(df_electronics_game)"
   ]
  },
  {
   "cell_type": "markdown",
   "metadata": {},
   "source": [
    "  * Brand name is a significant part of the dataset, and NotSet one the most representatives\n",
    "  * Using \"Video Game\" token gives a proportional quantity of NotSet brands then the original category\n"
   ]
  },
  {
   "cell_type": "markdown",
   "metadata": {},
   "source": [
    "* Item description misses mostly from items that have a brand name set\n",
    "* NotSet brand is as representative as the most popular brands where no description is set \n",
    "\n",
    "Are videogamers the least keen on setting a description? However, it seems like for all items with brand NotSet there is a description.\n",
    "\n",
    "How does it look in general?"
   ]
  },
  {
   "cell_type": "code",
   "execution_count": 17,
   "metadata": {},
   "outputs": [
    {
     "data": {
      "text/html": [
       "<div>\n",
       "<style scoped>\n",
       "    .dataframe tbody tr th:only-of-type {\n",
       "        vertical-align: middle;\n",
       "    }\n",
       "\n",
       "    .dataframe tbody tr th {\n",
       "        vertical-align: top;\n",
       "    }\n",
       "\n",
       "    .dataframe thead th {\n",
       "        text-align: right;\n",
       "    }\n",
       "</style>\n",
       "<table border=\"1\" class=\"dataframe\">\n",
       "  <thead>\n",
       "    <tr style=\"text-align: right;\">\n",
       "      <th></th>\n",
       "      <th></th>\n",
       "      <th>train_id</th>\n",
       "    </tr>\n",
       "    <tr>\n",
       "      <th>brand_name</th>\n",
       "      <th>item_description</th>\n",
       "      <th></th>\n",
       "    </tr>\n",
       "  </thead>\n",
       "  <tbody>\n",
       "    <tr>\n",
       "      <th rowspan=\"2\" valign=\"top\">NotSet</th>\n",
       "      <th>IsSet</th>\n",
       "      <td>595309</td>\n",
       "    </tr>\n",
       "    <tr>\n",
       "      <th>NotSet</th>\n",
       "      <td>37373</td>\n",
       "    </tr>\n",
       "    <tr>\n",
       "      <th>Nike</th>\n",
       "      <th>NotSet</th>\n",
       "      <td>2873</td>\n",
       "    </tr>\n",
       "    <tr>\n",
       "      <th>LuLaRoe</th>\n",
       "      <th>NotSet</th>\n",
       "      <td>2864</td>\n",
       "    </tr>\n",
       "    <tr>\n",
       "      <th>PINK</th>\n",
       "      <th>NotSet</th>\n",
       "      <td>2664</td>\n",
       "    </tr>\n",
       "    <tr>\n",
       "      <th>Rae Dunn</th>\n",
       "      <th>NotSet</th>\n",
       "      <td>1829</td>\n",
       "    </tr>\n",
       "    <tr>\n",
       "      <th>Victoria's Secret</th>\n",
       "      <th>NotSet</th>\n",
       "      <td>1728</td>\n",
       "    </tr>\n",
       "    <tr>\n",
       "      <th>Nintendo</th>\n",
       "      <th>NotSet</th>\n",
       "      <td>1135</td>\n",
       "    </tr>\n",
       "    <tr>\n",
       "      <th>FOREVER 21</th>\n",
       "      <th>NotSet</th>\n",
       "      <td>1125</td>\n",
       "    </tr>\n",
       "    <tr>\n",
       "      <th>Apple</th>\n",
       "      <th>NotSet</th>\n",
       "      <td>814</td>\n",
       "    </tr>\n",
       "    <tr>\n",
       "      <th>American Eagle</th>\n",
       "      <th>NotSet</th>\n",
       "      <td>676</td>\n",
       "    </tr>\n",
       "    <tr>\n",
       "      <th>Funko</th>\n",
       "      <th>NotSet</th>\n",
       "      <td>617</td>\n",
       "    </tr>\n",
       "    <tr>\n",
       "      <th>Adidas</th>\n",
       "      <th>NotSet</th>\n",
       "      <td>600</td>\n",
       "    </tr>\n",
       "    <tr>\n",
       "      <th>Sony</th>\n",
       "      <th>NotSet</th>\n",
       "      <td>577</td>\n",
       "    </tr>\n",
       "    <tr>\n",
       "      <th>Michael Kors</th>\n",
       "      <th>NotSet</th>\n",
       "      <td>561</td>\n",
       "    </tr>\n",
       "    <tr>\n",
       "      <th>Disney</th>\n",
       "      <th>NotSet</th>\n",
       "      <td>539</td>\n",
       "    </tr>\n",
       "    <tr>\n",
       "      <th>Bath &amp; Body Works</th>\n",
       "      <th>NotSet</th>\n",
       "      <td>520</td>\n",
       "    </tr>\n",
       "    <tr>\n",
       "      <th>Under Armour</th>\n",
       "      <th>NotSet</th>\n",
       "      <td>519</td>\n",
       "    </tr>\n",
       "    <tr>\n",
       "      <th>Xbox</th>\n",
       "      <th>NotSet</th>\n",
       "      <td>512</td>\n",
       "    </tr>\n",
       "    <tr>\n",
       "      <th>Coach</th>\n",
       "      <th>NotSet</th>\n",
       "      <td>434</td>\n",
       "    </tr>\n",
       "    <tr>\n",
       "      <th>Hollister</th>\n",
       "      <th>NotSet</th>\n",
       "      <td>432</td>\n",
       "    </tr>\n",
       "    <tr>\n",
       "      <th>Old Navy</th>\n",
       "      <th>NotSet</th>\n",
       "      <td>417</td>\n",
       "    </tr>\n",
       "    <tr>\n",
       "      <th>Brandy Melville</th>\n",
       "      <th>NotSet</th>\n",
       "      <td>401</td>\n",
       "    </tr>\n",
       "    <tr>\n",
       "      <th>SeneGence</th>\n",
       "      <th>NotSet</th>\n",
       "      <td>379</td>\n",
       "    </tr>\n",
       "    <tr>\n",
       "      <th>Lululemon</th>\n",
       "      <th>NotSet</th>\n",
       "      <td>334</td>\n",
       "    </tr>\n",
       "    <tr>\n",
       "      <th>Charlotte Russe</th>\n",
       "      <th>NotSet</th>\n",
       "      <td>292</td>\n",
       "    </tr>\n",
       "    <tr>\n",
       "      <th>Polo Ralph Lauren</th>\n",
       "      <th>NotSet</th>\n",
       "      <td>290</td>\n",
       "    </tr>\n",
       "    <tr>\n",
       "      <th>H&amp;M</th>\n",
       "      <th>NotSet</th>\n",
       "      <td>277</td>\n",
       "    </tr>\n",
       "    <tr>\n",
       "      <th>Carter's</th>\n",
       "      <th>NotSet</th>\n",
       "      <td>254</td>\n",
       "    </tr>\n",
       "    <tr>\n",
       "      <th>The North Face</th>\n",
       "      <th>NotSet</th>\n",
       "      <td>253</td>\n",
       "    </tr>\n",
       "    <tr>\n",
       "      <th>...</th>\n",
       "      <th>...</th>\n",
       "      <td>...</td>\n",
       "    </tr>\n",
       "    <tr>\n",
       "      <th>ESPN</th>\n",
       "      <th>NotSet</th>\n",
       "      <td>1</td>\n",
       "    </tr>\n",
       "    <tr>\n",
       "      <th>Easel</th>\n",
       "      <th>NotSet</th>\n",
       "      <td>1</td>\n",
       "    </tr>\n",
       "    <tr>\n",
       "      <th>Elemis Ltd</th>\n",
       "      <th>NotSet</th>\n",
       "      <td>1</td>\n",
       "    </tr>\n",
       "    <tr>\n",
       "      <th>Elizavecca</th>\n",
       "      <th>NotSet</th>\n",
       "      <td>1</td>\n",
       "    </tr>\n",
       "    <tr>\n",
       "      <th>Elliott Lucca</th>\n",
       "      <th>NotSet</th>\n",
       "      <td>1</td>\n",
       "    </tr>\n",
       "    <tr>\n",
       "      <th>Emerald Sundae</th>\n",
       "      <th>NotSet</th>\n",
       "      <td>1</td>\n",
       "    </tr>\n",
       "    <tr>\n",
       "      <th>Emerson</th>\n",
       "      <th>NotSet</th>\n",
       "      <td>1</td>\n",
       "    </tr>\n",
       "    <tr>\n",
       "      <th>Cliff Keen</th>\n",
       "      <th>NotSet</th>\n",
       "      <td>1</td>\n",
       "    </tr>\n",
       "    <tr>\n",
       "      <th>Claudia Richard</th>\n",
       "      <th>NotSet</th>\n",
       "      <td>1</td>\n",
       "    </tr>\n",
       "    <tr>\n",
       "      <th>Citizens of Humanity</th>\n",
       "      <th>NotSet</th>\n",
       "      <td>1</td>\n",
       "    </tr>\n",
       "    <tr>\n",
       "      <th>Band of Gypsies</th>\n",
       "      <th>NotSet</th>\n",
       "      <td>1</td>\n",
       "    </tr>\n",
       "    <tr>\n",
       "      <th>Annabelle</th>\n",
       "      <th>NotSet</th>\n",
       "      <td>1</td>\n",
       "    </tr>\n",
       "    <tr>\n",
       "      <th>Apostrophe</th>\n",
       "      <th>NotSet</th>\n",
       "      <td>1</td>\n",
       "    </tr>\n",
       "    <tr>\n",
       "      <th>Aquatopia</th>\n",
       "      <th>NotSet</th>\n",
       "      <td>1</td>\n",
       "    </tr>\n",
       "    <tr>\n",
       "      <th>Arm &amp; Hammer</th>\n",
       "      <th>NotSet</th>\n",
       "      <td>1</td>\n",
       "    </tr>\n",
       "    <tr>\n",
       "      <th>Armani Collezioni</th>\n",
       "      <th>NotSet</th>\n",
       "      <td>1</td>\n",
       "    </tr>\n",
       "    <tr>\n",
       "      <th>Aroma</th>\n",
       "      <th>NotSet</th>\n",
       "      <td>1</td>\n",
       "    </tr>\n",
       "    <tr>\n",
       "      <th>As Seen on TV</th>\n",
       "      <th>NotSet</th>\n",
       "      <td>1</td>\n",
       "    </tr>\n",
       "    <tr>\n",
       "      <th>Dermablend</th>\n",
       "      <th>NotSet</th>\n",
       "      <td>1</td>\n",
       "    </tr>\n",
       "    <tr>\n",
       "      <th>Banzai</th>\n",
       "      <th>NotSet</th>\n",
       "      <td>1</td>\n",
       "    </tr>\n",
       "    <tr>\n",
       "      <th>Christian Audigier</th>\n",
       "      <th>NotSet</th>\n",
       "      <td>1</td>\n",
       "    </tr>\n",
       "    <tr>\n",
       "      <th>Belif</th>\n",
       "      <th>NotSet</th>\n",
       "      <td>1</td>\n",
       "    </tr>\n",
       "    <tr>\n",
       "      <th>Benefit Cosmetics</th>\n",
       "      <th>NotSet</th>\n",
       "      <td>1</td>\n",
       "    </tr>\n",
       "    <tr>\n",
       "      <th>Boho Chic</th>\n",
       "      <th>NotSet</th>\n",
       "      <td>1</td>\n",
       "    </tr>\n",
       "    <tr>\n",
       "      <th>Buffalo</th>\n",
       "      <th>NotSet</th>\n",
       "      <td>1</td>\n",
       "    </tr>\n",
       "    <tr>\n",
       "      <th>DeLonghi</th>\n",
       "      <th>NotSet</th>\n",
       "      <td>1</td>\n",
       "    </tr>\n",
       "    <tr>\n",
       "      <th>Calphalon</th>\n",
       "      <th>NotSet</th>\n",
       "      <td>1</td>\n",
       "    </tr>\n",
       "    <tr>\n",
       "      <th>Canada Goose</th>\n",
       "      <th>NotSet</th>\n",
       "      <td>1</td>\n",
       "    </tr>\n",
       "    <tr>\n",
       "      <th>Catherine Malandrino</th>\n",
       "      <th>NotSet</th>\n",
       "      <td>1</td>\n",
       "    </tr>\n",
       "    <tr>\n",
       "      <th>gDiapers</th>\n",
       "      <th>NotSet</th>\n",
       "      <td>1</td>\n",
       "    </tr>\n",
       "  </tbody>\n",
       "</table>\n",
       "<p>1780 rows × 1 columns</p>\n",
       "</div>"
      ],
      "text/plain": [
       "                                       train_id\n",
       "brand_name           item_description          \n",
       "NotSet               IsSet               595309\n",
       "                     NotSet               37373\n",
       "Nike                 NotSet                2873\n",
       "LuLaRoe              NotSet                2864\n",
       "PINK                 NotSet                2664\n",
       "Rae Dunn             NotSet                1829\n",
       "Victoria's Secret    NotSet                1728\n",
       "Nintendo             NotSet                1135\n",
       "FOREVER 21           NotSet                1125\n",
       "Apple                NotSet                 814\n",
       "American Eagle       NotSet                 676\n",
       "Funko                NotSet                 617\n",
       "Adidas               NotSet                 600\n",
       "Sony                 NotSet                 577\n",
       "Michael Kors         NotSet                 561\n",
       "Disney               NotSet                 539\n",
       "Bath & Body Works    NotSet                 520\n",
       "Under Armour         NotSet                 519\n",
       "Xbox                 NotSet                 512\n",
       "Coach                NotSet                 434\n",
       "Hollister            NotSet                 432\n",
       "Old Navy             NotSet                 417\n",
       "Brandy Melville      NotSet                 401\n",
       "SeneGence            NotSet                 379\n",
       "Lululemon            NotSet                 334\n",
       "Charlotte Russe      NotSet                 292\n",
       "Polo Ralph Lauren    NotSet                 290\n",
       "H&M                  NotSet                 277\n",
       "Carter's             NotSet                 254\n",
       "The North Face       NotSet                 253\n",
       "...                                         ...\n",
       "ESPN                 NotSet                   1\n",
       "Easel                NotSet                   1\n",
       "Elemis Ltd           NotSet                   1\n",
       "Elizavecca           NotSet                   1\n",
       "Elliott Lucca        NotSet                   1\n",
       "Emerald Sundae       NotSet                   1\n",
       "Emerson              NotSet                   1\n",
       "Cliff Keen           NotSet                   1\n",
       "Claudia Richard      NotSet                   1\n",
       "Citizens of Humanity NotSet                   1\n",
       "Band of Gypsies      NotSet                   1\n",
       "Annabelle            NotSet                   1\n",
       "Apostrophe           NotSet                   1\n",
       "Aquatopia            NotSet                   1\n",
       "Arm & Hammer         NotSet                   1\n",
       "Armani Collezioni    NotSet                   1\n",
       "Aroma                NotSet                   1\n",
       "As Seen on TV        NotSet                   1\n",
       "Dermablend           NotSet                   1\n",
       "Banzai               NotSet                   1\n",
       "Christian Audigier   NotSet                   1\n",
       "Belif                NotSet                   1\n",
       "Benefit Cosmetics    NotSet                   1\n",
       "Boho Chic            NotSet                   1\n",
       "Buffalo              NotSet                   1\n",
       "DeLonghi             NotSet                   1\n",
       "Calphalon            NotSet                   1\n",
       "Canada Goose         NotSet                   1\n",
       "Catherine Malandrino NotSet                   1\n",
       "gDiapers             NotSet                   1\n",
       "\n",
       "[1780 rows x 1 columns]"
      ]
     },
     "execution_count": 17,
     "metadata": {},
     "output_type": "execute_result"
    }
   ],
   "source": [
    "df_not_set = df[(df.item_description == 'NotSet') | (df.brand_name == 'NotSet')]\n",
    "df_not_set['item_description'] = df_not_set['item_description'].mask(\n",
    "    df_not_set['item_description'] != 'NotSet', 'IsSet')\n",
    "\n",
    "\n",
    "df_not_set_brand_description = df_not_set[[\n",
    "    'train_id', 'brand_name', 'item_description'\n",
    "]].groupby([\n",
    "    'brand_name', 'item_description'\n",
    "]).count()\n",
    "\n",
    "df_not_set_brand_description.compute().sort_values(\n",
    "    by='train_id', ascending=False)"
   ]
  },
  {
   "cell_type": "markdown",
   "metadata": {},
   "source": [
    "* NoSet descriptions and brands are the most common elements\n"
   ]
  },
  {
   "cell_type": "markdown",
   "metadata": {},
   "source": [
    "# Transform the data\n",
    "\n",
    "* Some brands from elecctronics reappear with more items. \n",
    "  * Are they categorized wrongly?\n",
    "  * Is it feasible or necessary to recompute the dataset and reassign the category of items based on the category with most items?"
   ]
  },
  {
   "cell_type": "code",
   "execution_count": 18,
   "metadata": {},
   "outputs": [
    {
     "data": {
      "text/html": [
       "<div>\n",
       "<style scoped>\n",
       "    .dataframe tbody tr th:only-of-type {\n",
       "        vertical-align: middle;\n",
       "    }\n",
       "\n",
       "    .dataframe tbody tr th {\n",
       "        vertical-align: top;\n",
       "    }\n",
       "\n",
       "    .dataframe thead th {\n",
       "        text-align: right;\n",
       "    }\n",
       "</style>\n",
       "<table border=\"1\" class=\"dataframe\">\n",
       "  <thead>\n",
       "    <tr style=\"text-align: right;\">\n",
       "      <th></th>\n",
       "      <th></th>\n",
       "      <th></th>\n",
       "      <th>train_id</th>\n",
       "    </tr>\n",
       "    <tr>\n",
       "      <th>category_name</th>\n",
       "      <th>brand_name</th>\n",
       "      <th>item_description</th>\n",
       "      <th></th>\n",
       "    </tr>\n",
       "  </thead>\n",
       "  <tbody>\n",
       "    <tr>\n",
       "      <th rowspan=\"2\" valign=\"top\">Electronics/Video Games &amp; Consoles/Games</th>\n",
       "      <th>Nintendo</th>\n",
       "      <th>NotSet</th>\n",
       "      <td>873</td>\n",
       "    </tr>\n",
       "    <tr>\n",
       "      <th>Sony</th>\n",
       "      <th>NotSet</th>\n",
       "      <td>461</td>\n",
       "    </tr>\n",
       "    <tr>\n",
       "      <th>Vintage &amp; Collectibles/Electronics/Video Game</th>\n",
       "      <th>Nintendo</th>\n",
       "      <th>NotSet</th>\n",
       "      <td>67</td>\n",
       "    </tr>\n",
       "    <tr>\n",
       "      <th>Electronics/Video Games &amp; Consoles/Accessories</th>\n",
       "      <th>Nintendo</th>\n",
       "      <th>NotSet</th>\n",
       "      <td>66</td>\n",
       "    </tr>\n",
       "    <tr>\n",
       "      <th>Electronics/Video Games &amp; Consoles/Consoles</th>\n",
       "      <th>Nintendo</th>\n",
       "      <th>NotSet</th>\n",
       "      <td>53</td>\n",
       "    </tr>\n",
       "    <tr>\n",
       "      <th>Vintage &amp; Collectibles/Electronics/Video Game</th>\n",
       "      <th>Sony</th>\n",
       "      <th>NotSet</th>\n",
       "      <td>36</td>\n",
       "    </tr>\n",
       "    <tr>\n",
       "      <th>Electronics/Video Games &amp; Consoles/Video Gaming Merchandise</th>\n",
       "      <th>Nintendo</th>\n",
       "      <th>NotSet</th>\n",
       "      <td>33</td>\n",
       "    </tr>\n",
       "    <tr>\n",
       "      <th>Electronics/Video Games &amp; Consoles/Accessories</th>\n",
       "      <th>Sony</th>\n",
       "      <th>NotSet</th>\n",
       "      <td>30</td>\n",
       "    </tr>\n",
       "    <tr>\n",
       "      <th>Electronics/Video Games &amp; Consoles/Consoles</th>\n",
       "      <th>Sony</th>\n",
       "      <th>NotSet</th>\n",
       "      <td>14</td>\n",
       "    </tr>\n",
       "    <tr>\n",
       "      <th>Kids/Toys/Games</th>\n",
       "      <th>Nintendo</th>\n",
       "      <th>NotSet</th>\n",
       "      <td>11</td>\n",
       "    </tr>\n",
       "    <tr>\n",
       "      <th>Electronics/Video Games &amp; Consoles/Video Gaming Merchandise</th>\n",
       "      <th>Sony</th>\n",
       "      <th>NotSet</th>\n",
       "      <td>11</td>\n",
       "    </tr>\n",
       "    <tr>\n",
       "      <th>Kids/Toys/Action Figures &amp; Statues</th>\n",
       "      <th>Nintendo</th>\n",
       "      <th>NotSet</th>\n",
       "      <td>5</td>\n",
       "    </tr>\n",
       "    <tr>\n",
       "      <th>NotSet</th>\n",
       "      <th>Nintendo</th>\n",
       "      <th>NotSet</th>\n",
       "      <td>4</td>\n",
       "    </tr>\n",
       "    <tr>\n",
       "      <th>Electronics/TV, Audio &amp; Surveillance/Headphones</th>\n",
       "      <th>Sony</th>\n",
       "      <th>NotSet</th>\n",
       "      <td>3</td>\n",
       "    </tr>\n",
       "    <tr>\n",
       "      <th>Electronics/TV, Audio &amp; Surveillance/Portable Audio &amp; Accessories</th>\n",
       "      <th>Sony</th>\n",
       "      <th>NotSet</th>\n",
       "      <td>3</td>\n",
       "    </tr>\n",
       "    <tr>\n",
       "      <th>Electronics/Cameras &amp; Photography/Digital Cameras</th>\n",
       "      <th>Sony</th>\n",
       "      <th>NotSet</th>\n",
       "      <td>3</td>\n",
       "    </tr>\n",
       "    <tr>\n",
       "      <th>Men/Men's Accessories/Hats</th>\n",
       "      <th>Nintendo</th>\n",
       "      <th>NotSet</th>\n",
       "      <td>3</td>\n",
       "    </tr>\n",
       "    <tr>\n",
       "      <th>Kids/Toys/Stuffed Animals &amp; Plush</th>\n",
       "      <th>Sony</th>\n",
       "      <th>NotSet</th>\n",
       "      <td>2</td>\n",
       "    </tr>\n",
       "    <tr>\n",
       "      <th>Kids/Toys/Hobbies</th>\n",
       "      <th>Nintendo</th>\n",
       "      <th>NotSet</th>\n",
       "      <td>2</td>\n",
       "    </tr>\n",
       "    <tr>\n",
       "      <th>Electronics/Cameras &amp; Photography/Camcorders</th>\n",
       "      <th>Sony</th>\n",
       "      <th>NotSet</th>\n",
       "      <td>2</td>\n",
       "    </tr>\n",
       "    <tr>\n",
       "      <th>Electronics/Cell Phones &amp; Accessories/Chargers &amp; Cradles</th>\n",
       "      <th>Nintendo</th>\n",
       "      <th>NotSet</th>\n",
       "      <td>2</td>\n",
       "    </tr>\n",
       "    <tr>\n",
       "      <th>Electronics/TV, Audio &amp; Surveillance/Headphones</th>\n",
       "      <th>Nintendo</th>\n",
       "      <th>NotSet</th>\n",
       "      <td>2</td>\n",
       "    </tr>\n",
       "    <tr>\n",
       "      <th>Electronics/Cell Phones &amp; Accessories/Cases, Covers &amp; Skins</th>\n",
       "      <th>Nintendo</th>\n",
       "      <th>NotSet</th>\n",
       "      <td>2</td>\n",
       "    </tr>\n",
       "    <tr>\n",
       "      <th>Kids/Toys/Stuffed Animals &amp; Plush</th>\n",
       "      <th>Nintendo</th>\n",
       "      <th>NotSet</th>\n",
       "      <td>2</td>\n",
       "    </tr>\n",
       "    <tr>\n",
       "      <th>Electronics/Car Audio, Video &amp; GPS/Other</th>\n",
       "      <th>Sony</th>\n",
       "      <th>NotSet</th>\n",
       "      <td>1</td>\n",
       "    </tr>\n",
       "    <tr>\n",
       "      <th>Kids/Toys/Arts &amp; Crafts</th>\n",
       "      <th>Nintendo</th>\n",
       "      <th>NotSet</th>\n",
       "      <td>1</td>\n",
       "    </tr>\n",
       "    <tr>\n",
       "      <th>Kids/Toys/Games</th>\n",
       "      <th>Sony</th>\n",
       "      <th>NotSet</th>\n",
       "      <td>1</td>\n",
       "    </tr>\n",
       "    <tr>\n",
       "      <th>Vintage &amp; Collectibles/Trading Cards/Animation</th>\n",
       "      <th>Nintendo</th>\n",
       "      <th>NotSet</th>\n",
       "      <td>1</td>\n",
       "    </tr>\n",
       "    <tr>\n",
       "      <th>Men/Men's Accessories/Wallets</th>\n",
       "      <th>Nintendo</th>\n",
       "      <th>NotSet</th>\n",
       "      <td>1</td>\n",
       "    </tr>\n",
       "    <tr>\n",
       "      <th>Women/Other/Other</th>\n",
       "      <th>Sony</th>\n",
       "      <th>NotSet</th>\n",
       "      <td>1</td>\n",
       "    </tr>\n",
       "    <tr>\n",
       "      <th>Electronics/Cell Phones &amp; Accessories/Chargers &amp; Cradles</th>\n",
       "      <th>Sony</th>\n",
       "      <th>NotSet</th>\n",
       "      <td>1</td>\n",
       "    </tr>\n",
       "    <tr>\n",
       "      <th>Electronics/Video Games &amp; Consoles/Strategy Guides</th>\n",
       "      <th>Sony</th>\n",
       "      <th>NotSet</th>\n",
       "      <td>1</td>\n",
       "    </tr>\n",
       "    <tr>\n",
       "      <th>Vintage &amp; Collectibles/Collectibles/Figurine</th>\n",
       "      <th>Nintendo</th>\n",
       "      <th>NotSet</th>\n",
       "      <td>1</td>\n",
       "    </tr>\n",
       "    <tr>\n",
       "      <th>Vintage &amp; Collectibles/Electronics/Game</th>\n",
       "      <th>Sony</th>\n",
       "      <th>NotSet</th>\n",
       "      <td>1</td>\n",
       "    </tr>\n",
       "    <tr>\n",
       "      <th>Electronics/TV, Audio &amp; Surveillance/DVD &amp; Blu-ray Players</th>\n",
       "      <th>Sony</th>\n",
       "      <th>NotSet</th>\n",
       "      <td>1</td>\n",
       "    </tr>\n",
       "    <tr>\n",
       "      <th>Other/Office supplies/Electronics</th>\n",
       "      <th>Sony</th>\n",
       "      <th>NotSet</th>\n",
       "      <td>1</td>\n",
       "    </tr>\n",
       "    <tr>\n",
       "      <th>Men/Shoes/Athletic</th>\n",
       "      <th>Nintendo</th>\n",
       "      <th>NotSet</th>\n",
       "      <td>1</td>\n",
       "    </tr>\n",
       "    <tr>\n",
       "      <th>Kids/Toys/Dolls &amp; Accessories</th>\n",
       "      <th>Nintendo</th>\n",
       "      <th>NotSet</th>\n",
       "      <td>1</td>\n",
       "    </tr>\n",
       "    <tr>\n",
       "      <th>Other/Musical instruments/DJ, Electronic Music &amp; Karaoke</th>\n",
       "      <th>Sony</th>\n",
       "      <th>NotSet</th>\n",
       "      <td>1</td>\n",
       "    </tr>\n",
       "    <tr>\n",
       "      <th>Home/Artwork/Posters &amp; Prints</th>\n",
       "      <th>Nintendo</th>\n",
       "      <th>NotSet</th>\n",
       "      <td>1</td>\n",
       "    </tr>\n",
       "    <tr>\n",
       "      <th>Electronics/Video Games &amp; Consoles/Strategy Guides</th>\n",
       "      <th>Nintendo</th>\n",
       "      <th>NotSet</th>\n",
       "      <td>1</td>\n",
       "    </tr>\n",
       "    <tr>\n",
       "      <th>Electronics/Car Audio, Video &amp; GPS/Car Stereos &amp; Components</th>\n",
       "      <th>Sony</th>\n",
       "      <th>NotSet</th>\n",
       "      <td>1</td>\n",
       "    </tr>\n",
       "    <tr>\n",
       "      <th>Electronics/Computers &amp; Tablets/Drives, Storage &amp; Media</th>\n",
       "      <th>Sony</th>\n",
       "      <th>NotSet</th>\n",
       "      <td>1</td>\n",
       "    </tr>\n",
       "    <tr>\n",
       "      <th>Electronics/Cell Phones &amp; Accessories/Cell Phones &amp; Smartphones</th>\n",
       "      <th>Sony</th>\n",
       "      <th>NotSet</th>\n",
       "      <td>1</td>\n",
       "    </tr>\n",
       "    <tr>\n",
       "      <th>Other/Books/Literature &amp; Fiction</th>\n",
       "      <th>Nintendo</th>\n",
       "      <th>NotSet</th>\n",
       "      <td>1</td>\n",
       "    </tr>\n",
       "    <tr>\n",
       "      <th>Vintage &amp; Collectibles/Collectibles/Other</th>\n",
       "      <th>Nintendo</th>\n",
       "      <th>NotSet</th>\n",
       "      <td>1</td>\n",
       "    </tr>\n",
       "  </tbody>\n",
       "</table>\n",
       "</div>"
      ],
      "text/plain": [
       "                                                                                train_id\n",
       "category_name                                      brand_name item_description          \n",
       "Electronics/Video Games & Consoles/Games           Nintendo   NotSet                 873\n",
       "                                                   Sony       NotSet                 461\n",
       "Vintage & Collectibles/Electronics/Video Game      Nintendo   NotSet                  67\n",
       "Electronics/Video Games & Consoles/Accessories     Nintendo   NotSet                  66\n",
       "Electronics/Video Games & Consoles/Consoles        Nintendo   NotSet                  53\n",
       "Vintage & Collectibles/Electronics/Video Game      Sony       NotSet                  36\n",
       "Electronics/Video Games & Consoles/Video Gaming... Nintendo   NotSet                  33\n",
       "Electronics/Video Games & Consoles/Accessories     Sony       NotSet                  30\n",
       "Electronics/Video Games & Consoles/Consoles        Sony       NotSet                  14\n",
       "Kids/Toys/Games                                    Nintendo   NotSet                  11\n",
       "Electronics/Video Games & Consoles/Video Gaming... Sony       NotSet                  11\n",
       "Kids/Toys/Action Figures & Statues                 Nintendo   NotSet                   5\n",
       "NotSet                                             Nintendo   NotSet                   4\n",
       "Electronics/TV, Audio & Surveillance/Headphones    Sony       NotSet                   3\n",
       "Electronics/TV, Audio & Surveillance/Portable A... Sony       NotSet                   3\n",
       "Electronics/Cameras & Photography/Digital Cameras  Sony       NotSet                   3\n",
       "Men/Men's Accessories/Hats                         Nintendo   NotSet                   3\n",
       "Kids/Toys/Stuffed Animals & Plush                  Sony       NotSet                   2\n",
       "Kids/Toys/Hobbies                                  Nintendo   NotSet                   2\n",
       "Electronics/Cameras & Photography/Camcorders       Sony       NotSet                   2\n",
       "Electronics/Cell Phones & Accessories/Chargers ... Nintendo   NotSet                   2\n",
       "Electronics/TV, Audio & Surveillance/Headphones    Nintendo   NotSet                   2\n",
       "Electronics/Cell Phones & Accessories/Cases, Co... Nintendo   NotSet                   2\n",
       "Kids/Toys/Stuffed Animals & Plush                  Nintendo   NotSet                   2\n",
       "Electronics/Car Audio, Video & GPS/Other           Sony       NotSet                   1\n",
       "Kids/Toys/Arts & Crafts                            Nintendo   NotSet                   1\n",
       "Kids/Toys/Games                                    Sony       NotSet                   1\n",
       "Vintage & Collectibles/Trading Cards/Animation     Nintendo   NotSet                   1\n",
       "Men/Men's Accessories/Wallets                      Nintendo   NotSet                   1\n",
       "Women/Other/Other                                  Sony       NotSet                   1\n",
       "Electronics/Cell Phones & Accessories/Chargers ... Sony       NotSet                   1\n",
       "Electronics/Video Games & Consoles/Strategy Guides Sony       NotSet                   1\n",
       "Vintage & Collectibles/Collectibles/Figurine       Nintendo   NotSet                   1\n",
       "Vintage & Collectibles/Electronics/Game            Sony       NotSet                   1\n",
       "Electronics/TV, Audio & Surveillance/DVD & Blu-... Sony       NotSet                   1\n",
       "Other/Office supplies/Electronics                  Sony       NotSet                   1\n",
       "Men/Shoes/Athletic                                 Nintendo   NotSet                   1\n",
       "Kids/Toys/Dolls & Accessories                      Nintendo   NotSet                   1\n",
       "Other/Musical instruments/DJ, Electronic Music ... Sony       NotSet                   1\n",
       "Home/Artwork/Posters & Prints                      Nintendo   NotSet                   1\n",
       "Electronics/Video Games & Consoles/Strategy Guides Nintendo   NotSet                   1\n",
       "Electronics/Car Audio, Video & GPS/Car Stereos ... Sony       NotSet                   1\n",
       "Electronics/Computers & Tablets/Drives, Storage... Sony       NotSet                   1\n",
       "Electronics/Cell Phones & Accessories/Cell Phon... Sony       NotSet                   1\n",
       "Other/Books/Literature & Fiction                   Nintendo   NotSet                   1\n",
       "Vintage & Collectibles/Collectibles/Other          Nintendo   NotSet                   1"
      ]
     },
     "execution_count": 18,
     "metadata": {},
     "output_type": "execute_result"
    }
   ],
   "source": [
    "df_not_set_cat = df_not_set[(df_not_set.brand_name == 'Nintendo') | (df_not_set.brand_name == 'Sony')][[\n",
    "    'train_id', 'brand_name', 'category_name', 'item_description'\n",
    "]].groupby([\n",
    "    'category_name', 'brand_name', 'item_description'\n",
    "]).count()\n",
    "\n",
    "df_not_set_cat.compute().sort_values(\n",
    "    by='train_id', ascending=False)"
   ]
  },
  {
   "cell_type": "markdown",
   "metadata": {},
   "source": [
    "# Summary"
   ]
  },
  {
   "cell_type": "code",
   "execution_count": 19,
   "metadata": {},
   "outputs": [
    {
     "data": {
      "text/html": [
       "<div>\n",
       "<style scoped>\n",
       "    .dataframe tbody tr th:only-of-type {\n",
       "        vertical-align: middle;\n",
       "    }\n",
       "\n",
       "    .dataframe tbody tr th {\n",
       "        vertical-align: top;\n",
       "    }\n",
       "\n",
       "    .dataframe thead th {\n",
       "        text-align: right;\n",
       "    }\n",
       "</style>\n",
       "<table border=\"1\" class=\"dataframe\">\n",
       "  <thead>\n",
       "    <tr style=\"text-align: right;\">\n",
       "      <th></th>\n",
       "      <th>brand_name</th>\n",
       "      <th>train_id_x</th>\n",
       "      <th>train_id_y</th>\n",
       "      <th>change</th>\n",
       "    </tr>\n",
       "  </thead>\n",
       "  <tbody>\n",
       "    <tr>\n",
       "      <th>0</th>\n",
       "      <td>Nintendo</td>\n",
       "      <td>10044</td>\n",
       "      <td>14591</td>\n",
       "      <td>0.452708</td>\n",
       "    </tr>\n",
       "    <tr>\n",
       "      <th>1</th>\n",
       "      <td>NotSet</td>\n",
       "      <td>6706</td>\n",
       "      <td>9844</td>\n",
       "      <td>0.467939</td>\n",
       "    </tr>\n",
       "    <tr>\n",
       "      <th>2</th>\n",
       "      <td>Sony</td>\n",
       "      <td>5381</td>\n",
       "      <td>7445</td>\n",
       "      <td>0.383572</td>\n",
       "    </tr>\n",
       "    <tr>\n",
       "      <th>3</th>\n",
       "      <td>Xbox</td>\n",
       "      <td>4046</td>\n",
       "      <td>5656</td>\n",
       "      <td>0.397924</td>\n",
       "    </tr>\n",
       "    <tr>\n",
       "      <th>4</th>\n",
       "      <td>Microsoft</td>\n",
       "      <td>211</td>\n",
       "      <td>514</td>\n",
       "      <td>1.436019</td>\n",
       "    </tr>\n",
       "  </tbody>\n",
       "</table>\n",
       "</div>"
      ],
      "text/plain": [
       "  brand_name  train_id_x  train_id_y    change\n",
       "0   Nintendo       10044       14591  0.452708\n",
       "1     NotSet        6706        9844  0.467939\n",
       "2       Sony        5381        7445  0.383572\n",
       "3       Xbox        4046        5656  0.397924\n",
       "4  Microsoft         211         514  1.436019"
      ]
     },
     "execution_count": 19,
     "metadata": {},
     "output_type": "execute_result"
    },
    {
     "data": {
      "image/png": "[encoded data removed]",
      "text/plain": [
       "<Figure size 432x288 with 1 Axes>"
      ]
     },
     "metadata": {},
     "output_type": "display_data"
    }
   ],
   "source": [
    "df_pct_diff = dd.merge(\n",
    "    df_electronics_brands.head().reset_index(), df_electronics_brands_game.head().reset_index(), \n",
    "    on='brand_name'\n",
    ")\n",
    "\n",
    "df_electronics_brands_type = df_electronics_brands.copy().head()\n",
    "df_electronics_brands_type['type'] = 'category'\n",
    "\n",
    "df_electronics_brands_game_type = df_electronics_brands_game.copy().head()\n",
    "df_electronics_brands_game_type['type'] = 'token'\n",
    "\n",
    "merged_brands = dd.concat(\n",
    "    [df_electronics_brands_game_type.reset_index(), df_electronics_brands_type.reset_index()],\n",
    "    interleave_partitions=True, axis=0\n",
    ").compute()\n",
    "\n",
    "df_pct_diff['change'] = df_pct_diff[['train_id_x', 'train_id_y']].pct_change(axis='columns')['train_id_y']\n",
    "\n",
    "sns.barplot(\n",
    "    x=\"brand_name\", y='train_id', hue=\"type\", data=merged_brands,\n",
    "    palette=\"muted\"\n",
    ")\n",
    "\n",
    "df_pct_diff\n",
    "\n"
   ]
  },
  {
   "cell_type": "markdown",
   "metadata": {},
   "source": [
    "* \"Video Game\" token can provide valuable information for price prediction."
   ]
  },
  {
   "cell_type": "code",
   "execution_count": 21,
   "metadata": {},
   "outputs": [
    {
     "ename": "AttributeError",
     "evalue": "'DataFrame' object has no attribute 'get'",
     "output_type": "error",
     "traceback": [
      "\u001b[0;31m---------------------------------------------------------------------------\u001b[0m",
      "\u001b[0;31mAttributeError\u001b[0m                            Traceback (most recent call last)",
      "\u001b[0;32m<ipython-input-21-c47e92b95a07>\u001b[0m in \u001b[0;36m<module>\u001b[0;34m()\u001b[0m\n\u001b[1;32m      1\u001b[0m _ = sns.barplot(\n\u001b[1;32m      2\u001b[0m     \u001b[0mx\u001b[0m\u001b[0;34m=\u001b[0m\u001b[0;34m\"brand_name\"\u001b[0m\u001b[0;34m,\u001b[0m \u001b[0my\u001b[0m\u001b[0;34m=\u001b[0m\u001b[0;34m'train_id'\u001b[0m\u001b[0;34m,\u001b[0m \u001b[0mhue\u001b[0m\u001b[0;34m=\u001b[0m\u001b[0;34m\"type\"\u001b[0m\u001b[0;34m,\u001b[0m \u001b[0mdata\u001b[0m\u001b[0;34m=\u001b[0m\u001b[0mdf_electronics_game\u001b[0m\u001b[0;34m,\u001b[0m\u001b[0;34m\u001b[0m\u001b[0m\n\u001b[0;32m----> 3\u001b[0;31m     \u001b[0mpalette\u001b[0m\u001b[0;34m=\u001b[0m\u001b[0;34m\"muted\"\u001b[0m\u001b[0;34m\u001b[0m\u001b[0m\n\u001b[0m\u001b[1;32m      4\u001b[0m )\n",
      "\u001b[0;32m/usr/local/lib/python3.6/site-packages/seaborn/categorical.py\u001b[0m in \u001b[0;36mbarplot\u001b[0;34m(x, y, hue, data, order, hue_order, estimator, ci, n_boot, units, orient, color, palette, saturation, errcolor, errwidth, capsize, dodge, ax, **kwargs)\u001b[0m\n\u001b[1;32m   2957\u001b[0m                           \u001b[0mestimator\u001b[0m\u001b[0;34m,\u001b[0m \u001b[0mci\u001b[0m\u001b[0;34m,\u001b[0m \u001b[0mn_boot\u001b[0m\u001b[0;34m,\u001b[0m \u001b[0munits\u001b[0m\u001b[0;34m,\u001b[0m\u001b[0;34m\u001b[0m\u001b[0m\n\u001b[1;32m   2958\u001b[0m                           \u001b[0morient\u001b[0m\u001b[0;34m,\u001b[0m \u001b[0mcolor\u001b[0m\u001b[0;34m,\u001b[0m \u001b[0mpalette\u001b[0m\u001b[0;34m,\u001b[0m \u001b[0msaturation\u001b[0m\u001b[0;34m,\u001b[0m\u001b[0;34m\u001b[0m\u001b[0m\n\u001b[0;32m-> 2959\u001b[0;31m                           errcolor, errwidth, capsize, dodge)\n\u001b[0m\u001b[1;32m   2960\u001b[0m \u001b[0;34m\u001b[0m\u001b[0m\n\u001b[1;32m   2961\u001b[0m     \u001b[0;32mif\u001b[0m \u001b[0max\u001b[0m \u001b[0;32mis\u001b[0m \u001b[0;32mNone\u001b[0m\u001b[0;34m:\u001b[0m\u001b[0;34m\u001b[0m\u001b[0m\n",
      "\u001b[0;32m/usr/local/lib/python3.6/site-packages/seaborn/categorical.py\u001b[0m in \u001b[0;36m__init__\u001b[0;34m(self, x, y, hue, data, order, hue_order, estimator, ci, n_boot, units, orient, color, palette, saturation, errcolor, errwidth, capsize, dodge)\u001b[0m\n\u001b[1;32m   1594\u001b[0m         \u001b[0;34m\"\"\"Initialize the plotter.\"\"\"\u001b[0m\u001b[0;34m\u001b[0m\u001b[0m\n\u001b[1;32m   1595\u001b[0m         self.establish_variables(x, y, hue, data, orient,\n\u001b[0;32m-> 1596\u001b[0;31m                                  order, hue_order, units)\n\u001b[0m\u001b[1;32m   1597\u001b[0m         \u001b[0mself\u001b[0m\u001b[0;34m.\u001b[0m\u001b[0mestablish_colors\u001b[0m\u001b[0;34m(\u001b[0m\u001b[0mcolor\u001b[0m\u001b[0;34m,\u001b[0m \u001b[0mpalette\u001b[0m\u001b[0;34m,\u001b[0m \u001b[0msaturation\u001b[0m\u001b[0;34m)\u001b[0m\u001b[0;34m\u001b[0m\u001b[0m\n\u001b[1;32m   1598\u001b[0m         \u001b[0mself\u001b[0m\u001b[0;34m.\u001b[0m\u001b[0mestimate_statistic\u001b[0m\u001b[0;34m(\u001b[0m\u001b[0mestimator\u001b[0m\u001b[0;34m,\u001b[0m \u001b[0mci\u001b[0m\u001b[0;34m,\u001b[0m \u001b[0mn_boot\u001b[0m\u001b[0;34m)\u001b[0m\u001b[0;34m\u001b[0m\u001b[0m\n",
      "\u001b[0;32m/usr/local/lib/python3.6/site-packages/seaborn/categorical.py\u001b[0m in \u001b[0;36mestablish_variables\u001b[0;34m(self, x, y, hue, data, orient, order, hue_order, units)\u001b[0m\n\u001b[1;32m    140\u001b[0m             \u001b[0;31m# See if we need to get variables from `data`\u001b[0m\u001b[0;34m\u001b[0m\u001b[0;34m\u001b[0m\u001b[0m\n\u001b[1;32m    141\u001b[0m             \u001b[0;32mif\u001b[0m \u001b[0mdata\u001b[0m \u001b[0;32mis\u001b[0m \u001b[0;32mnot\u001b[0m \u001b[0;32mNone\u001b[0m\u001b[0;34m:\u001b[0m\u001b[0;34m\u001b[0m\u001b[0m\n\u001b[0;32m--> 142\u001b[0;31m                 \u001b[0mx\u001b[0m \u001b[0;34m=\u001b[0m \u001b[0mdata\u001b[0m\u001b[0;34m.\u001b[0m\u001b[0mget\u001b[0m\u001b[0;34m(\u001b[0m\u001b[0mx\u001b[0m\u001b[0;34m,\u001b[0m \u001b[0mx\u001b[0m\u001b[0;34m)\u001b[0m\u001b[0;34m\u001b[0m\u001b[0m\n\u001b[0m\u001b[1;32m    143\u001b[0m                 \u001b[0my\u001b[0m \u001b[0;34m=\u001b[0m \u001b[0mdata\u001b[0m\u001b[0;34m.\u001b[0m\u001b[0mget\u001b[0m\u001b[0;34m(\u001b[0m\u001b[0my\u001b[0m\u001b[0;34m,\u001b[0m \u001b[0my\u001b[0m\u001b[0;34m)\u001b[0m\u001b[0;34m\u001b[0m\u001b[0m\n\u001b[1;32m    144\u001b[0m                 \u001b[0mhue\u001b[0m \u001b[0;34m=\u001b[0m \u001b[0mdata\u001b[0m\u001b[0;34m.\u001b[0m\u001b[0mget\u001b[0m\u001b[0;34m(\u001b[0m\u001b[0mhue\u001b[0m\u001b[0;34m,\u001b[0m \u001b[0mhue\u001b[0m\u001b[0;34m)\u001b[0m\u001b[0;34m\u001b[0m\u001b[0m\n",
      "\u001b[0;32m/usr/local/lib/python3.6/site-packages/dask/dataframe/core.py\u001b[0m in \u001b[0;36m__getattr__\u001b[0;34m(self, key)\u001b[0m\n\u001b[1;32m   2412\u001b[0m             return new_dd_object(merge(self.dask, dsk), name,\n\u001b[1;32m   2413\u001b[0m                                  meta, self.divisions)\n\u001b[0;32m-> 2414\u001b[0;31m         \u001b[0;32mraise\u001b[0m \u001b[0mAttributeError\u001b[0m\u001b[0;34m(\u001b[0m\u001b[0;34m\"'DataFrame' object has no attribute %r\"\u001b[0m \u001b[0;34m%\u001b[0m \u001b[0mkey\u001b[0m\u001b[0;34m)\u001b[0m\u001b[0;34m\u001b[0m\u001b[0m\n\u001b[0m\u001b[1;32m   2415\u001b[0m \u001b[0;34m\u001b[0m\u001b[0m\n\u001b[1;32m   2416\u001b[0m     \u001b[0;32mdef\u001b[0m \u001b[0m__dir__\u001b[0m\u001b[0;34m(\u001b[0m\u001b[0mself\u001b[0m\u001b[0;34m)\u001b[0m\u001b[0;34m:\u001b[0m\u001b[0;34m\u001b[0m\u001b[0m\n",
      "\u001b[0;31mAttributeError\u001b[0m: 'DataFrame' object has no attribute 'get'"
     ]
    }
   ],
   "source": [
    "_ = sns.barplot(\n",
    "    x=\"brand_name\", y='train_id', hue=\"type\", data=df_electronics_game,\n",
    "    palette=\"muted\"\n",
    ")"
   ]
  },
  {
   "cell_type": "code",
   "execution_count": 22,
   "metadata": {},
   "outputs": [
    {
     "data": {
      "text/plain": [
       "31.390776762232118"
      ]
     },
     "execution_count": 22,
     "metadata": {},
     "output_type": "execute_result"
    }
   ],
   "source": [
    "df_not_set_electronics_game['train_id'].sum().compute() * 100 / len(df_electronics_game)"
   ]
  },
  {
   "cell_type": "code",
   "execution_count": 23,
   "metadata": {},
   "outputs": [
    {
     "data": {
      "text/plain": [
       "46.09987175687541"
      ]
     },
     "execution_count": 23,
     "metadata": {},
     "output_type": "execute_result"
    }
   ],
   "source": [
    "df_not_set_cat_rest = df_not_set[\n",
    "    ~(df_not_set['category_name'].str.contains('Video Game'))\n",
    "][[\n",
    "    'train_id', 'brand_name', 'category_name', 'item_description'\n",
    "]].groupby([\n",
    "    'category_name', 'brand_name', 'item_description'\n",
    "]).count()\n",
    "\n",
    "#df_not_set_cat_rest.compute().sort_values(\n",
    "#    by='train_id', ascending=False)\n",
    "\n",
    "df_not_set_cat_rest['train_id'].sum().compute() * 100 / len(df[~(df['category_name'].str.contains('Video Game'))])"
   ]
  },
  {
   "cell_type": "markdown",
   "metadata": {},
   "source": [
    "* It turns out that videogamers are more diligent filling the information for their items."
   ]
  },
  {
   "cell_type": "code",
   "execution_count": 24,
   "metadata": {},
   "outputs": [],
   "source": [
    "import numpy as np\n",
    "cumulative = lambda sample: sns.distplot(sample, hist_kws=dict(cumulative=True),kde_kws=dict(cumulative=True))\n"
   ]
  },
  {
   "cell_type": "code",
   "execution_count": 25,
   "metadata": {},
   "outputs": [
    {
     "name": "stderr",
     "output_type": "stream",
     "text": [
      "/usr/local/lib/python3.6/site-packages/matplotlib/axes/_axes.py:6462: UserWarning: The 'normed' kwarg is deprecated, and has been replaced by the 'density' kwarg.\n",
      "  warnings.warn(\"The 'normed' kwarg is deprecated, and has been \"\n"
     ]
    },
    {
     "data": {
      "image/png": "[encoded data removed]",
      "text/plain": [
       "<Figure size 432x288 with 1 Axes>"
      ]
     },
     "metadata": {},
     "output_type": "display_data"
    }
   ],
   "source": [
    "\n",
    "df_mean = df[[\n",
    "    'category_name', 'item_condition_id', 'price', 'shipping'\n",
    "]].groupby([\n",
    "    'category_name'\n",
    "]).mean()\n",
    "_ = sns.distplot(df_mean['price'], bins=int(np.sqrt(len(df_mean))))\n"
   ]
  },
  {
   "cell_type": "code",
   "execution_count": 26,
   "metadata": {},
   "outputs": [
    {
     "name": "stderr",
     "output_type": "stream",
     "text": [
      "/usr/local/lib/python3.6/site-packages/matplotlib/axes/_axes.py:6462: UserWarning: The 'normed' kwarg is deprecated, and has been replaced by the 'density' kwarg.\n",
      "  warnings.warn(\"The 'normed' kwarg is deprecated, and has been \"\n"
     ]
    },
    {
     "data": {
      "image/png": "[encoded data removed]",
      "text/plain": [
       "<Figure size 432x288 with 1 Axes>"
      ]
     },
     "metadata": {},
     "output_type": "display_data"
    }
   ],
   "source": [
    "_ = sns.distplot(df_electronics_game[df_electronics_game['price'] < 100]['price'], bins=int(np.sqrt(len(df_electronics_game))))"
   ]
  },
  {
   "cell_type": "code",
   "execution_count": 27,
   "metadata": {},
   "outputs": [
    {
     "name": "stderr",
     "output_type": "stream",
     "text": [
      "distributed.comm.tcp - WARNING - Closing dangling stream in <TCP local=tcp://127.0.0.1:63491 remote=tcp://127.0.0.1:63443>\n",
      "/usr/local/lib/python3.6/site-packages/matplotlib/axes/_axes.py:6462: UserWarning: The 'normed' kwarg is deprecated, and has been replaced by the 'density' kwarg.\n",
      "  warnings.warn(\"The 'normed' kwarg is deprecated, and has been \"\n"
     ]
    },
    {
     "data": {
      "image/png": "[encoded data removed]",
      "text/plain": [
       "<Figure size 432x288 with 1 Axes>"
      ]
     },
     "metadata": {},
     "output_type": "display_data"
    }
   ],
   "source": [
    "df_electronics_game_log = np.log(df_electronics_game['price']).compute()\n",
    "_ = sns.distplot(df_electronics_game_log, hist_kws={\"range\": [0,df_electronics_game_log.max()]}, bins=int(np.sqrt(len(df_electronics_game))))\n",
    "#_ = sns.distplot(df_mean['item_condition_id'], bins=int(np.sqrt(len(df_mean))))\n",
    "#_ = sns.distplot(df_mean['shipping'], bins=int(np.sqrt(len(df_mean))))\n"
   ]
  },
  {
   "cell_type": "code",
   "execution_count": 28,
   "metadata": {},
   "outputs": [
    {
     "data": {
      "image/png": "[encoded data removed]",
      "text/plain": [
       "<Figure size 432x288 with 1 Axes>"
      ]
     },
     "metadata": {},
     "output_type": "display_data"
    }
   ],
   "source": [
    "_ = sns.barplot(\n",
    "    x=\"item_condition_id\", y='price', data=df_electronics_game.compute(),\n",
    "    palette=\"muted\"\n",
    ")\n",
    "#df_electronics_game[['price', 'item_condition_id']].hist()\n",
    "# scatter len description\n",
    "# shipping, item_condition hist\n",
    "# word cloud item description, percent tabs"
   ]
  },
  {
   "cell_type": "code",
   "execution_count": 29,
   "metadata": {},
   "outputs": [
    {
     "data": {
      "image/png": "[encoded data removed]",
      "text/plain": [
       "<Figure size 432x288 with 1 Axes>"
      ]
     },
     "metadata": {},
     "output_type": "display_data"
    }
   ],
   "source": [
    "_ = sns.barplot(\n",
    "    x=\"shipping\", y='price', data=df_electronics_game.compute(),\n",
    "    palette=\"muted\"\n",
    ")\n",
    "# Shipping is free on expensive items???\n",
    "#distrributions\n",
    "#prices ranges for percentage shipping\n",
    "# ttest"
   ]
  },
  {
   "cell_type": "code",
   "execution_count": 30,
   "metadata": {},
   "outputs": [
    {
     "name": "stderr",
     "output_type": "stream",
     "text": [
      "/usr/local/lib/python3.6/site-packages/matplotlib/axes/_axes.py:6462: UserWarning: The 'normed' kwarg is deprecated, and has been replaced by the 'density' kwarg.\n",
      "  warnings.warn(\"The 'normed' kwarg is deprecated, and has been \"\n",
      "/usr/local/lib/python3.6/site-packages/matplotlib/axes/_axes.py:6462: UserWarning: The 'normed' kwarg is deprecated, and has been replaced by the 'density' kwarg.\n",
      "  warnings.warn(\"The 'normed' kwarg is deprecated, and has been \"\n"
     ]
    },
    {
     "data": {
      "image/png": "[encoded data removed]",
      "text/plain": [
       "<Figure size 432x288 with 1 Axes>"
      ]
     },
     "metadata": {},
     "output_type": "display_data"
    }
   ],
   "source": [
    "_ = sns.distplot(df_electronics_game[df_electronics_game.shipping == 0]['price'], bins=int(np.sqrt(len(df_electronics_game))))\n",
    "_ = sns.distplot(df_electronics_game[df_electronics_game.shipping == 1]['price'], bins=int(np.sqrt(len(df_electronics_game))))"
   ]
  },
  {
   "cell_type": "code",
   "execution_count": 31,
   "metadata": {},
   "outputs": [
    {
     "name": "stderr",
     "output_type": "stream",
     "text": [
      "/usr/local/lib/python3.6/site-packages/matplotlib/axes/_axes.py:6462: UserWarning: The 'normed' kwarg is deprecated, and has been replaced by the 'density' kwarg.\n",
      "  warnings.warn(\"The 'normed' kwarg is deprecated, and has been \"\n"
     ]
    },
    {
     "data": {
      "image/png": "[encoded data removed]",
      "text/plain": [
       "<Figure size 432x288 with 1 Axes>"
      ]
     },
     "metadata": {},
     "output_type": "display_data"
    }
   ],
   "source": [
    "# Ignore invalid inf values: np.ma.masked_invalid\n",
    "df_electronics_game_log = np.ma.masked_invalid(np.log(df_electronics_game['price']))\n",
    "_ = sns.distplot(df_electronics_game_log, hist_kws={\"range\": [0,df_electronics_game_log.max()]}, bins=int(np.sqrt(len(df_electronics_game))))"
   ]
  },
  {
   "cell_type": "code",
   "execution_count": 89,
   "metadata": {},
   "outputs": [
    {
     "name": "stderr",
     "output_type": "stream",
     "text": [
      "/usr/local/lib/python3.6/site-packages/matplotlib/axes/_axes.py:6462: UserWarning: The 'normed' kwarg is deprecated, and has been replaced by the 'density' kwarg.\n",
      "  warnings.warn(\"The 'normed' kwarg is deprecated, and has been \"\n"
     ]
    },
    {
     "name": "stdout",
     "output_type": "stream",
     "text": [
      "3.0146956634695687\n"
     ]
    },
    {
     "data": {
      "image/png": "[encoded data removed]",
      "text/plain": [
       "<Figure size 432x288 with 1 Axes>"
      ]
     },
     "metadata": {},
     "output_type": "display_data"
    }
   ],
   "source": [
    "cumulative = lambda sample: sns.distplot(sample, bins=int(np.sqrt(len(sample))), hist_kws={\"range\": [0,sample.max()], \"cumulative\":True},kde_kws=dict(cumulative=True))\n",
    "dist = lambda sample: sns.distplot(sample, hist_kws={\"range\": [0,sample.max()]}, bins=int(np.sqrt(len(sample))))\n",
    "_ = cumulative(df_electronics_game_log)\n",
    "print(df_electronics_game_log.mean())"
   ]
  },
  {
   "cell_type": "code",
   "execution_count": 33,
   "metadata": {},
   "outputs": [
    {
     "data": {
      "text/plain": [
       "{'mean|std': (3.0146956634695687, 0.8502843673963947),\n",
       " 'Confidence interval': [3.0061913807463805, 3.023199946192757],\n",
       " 'normal_test': NormaltestResult(statistic=2829.213233870664, pvalue=0.0),\n",
       " 't_test': Ttest_1sampResult(statistic=7.174774915986319, pvalue=7.373434390791407e-13),\n",
       " 'z_test': (7.174774915986319, 7.242624435484533e-13)}"
      ]
     },
     "execution_count": 33,
     "metadata": {},
     "output_type": "execute_result"
    }
   ],
   "source": [
    "import scipy.stats as stats\n",
    "\n",
    "from statsmodels.stats.weightstats import ztest\n",
    "\n",
    "mean, std = df_electronics_game_log.mean(), df_electronics_game_log.std()\n",
    "sigma_e =  std/np.sqrt(len(df_electronics_game_log))\n",
    "margin = 1.96*sigma_e #95% confidence\n",
    "\n",
    "# (correlation) description len, price\n",
    "{\n",
    "    'mean|std': (mean, std),\n",
    "    'Confidence interval': [mean-margin,mean+margin],\n",
    "    'normal_test': stats.mstats.normaltest(df_electronics_game_log), \n",
    "    't_test': stats.ttest_1samp(df_electronics_game['price'],30), # shipping categories come from same distro\n",
    "    'z_test': ztest(df_electronics_game['price'],value=30)  \n",
    "}"
   ]
  },
  {
   "cell_type": "markdown",
   "metadata": {},
   "source": [
    "** description and price, best fit line.... Do it with log for linear relation, more accurate **\n",
    "\n",
    "* Milestone report: FINISHED until before ML\n",
    "\n",
    "\n",
    "1. Shorter description, more expensive\n",
    "1. Free shipping, cheaper item\n",
    "  1. Cultural difference? \n",
    "  1. Do buyers demand free shipping foor second hand items? \n",
    "  1. New items sellers feel less urgent to sell?\n",
    "1. Better condition, more expensive. \n",
    "  1. Items with condition 1 are considerably more expensive, 30%\n",
    "1. It is more usual a medium price item"
   ]
  },
  {
   "cell_type": "code",
   "execution_count": 54,
   "metadata": {},
   "outputs": [
    {
     "name": "stderr",
     "output_type": "stream",
     "text": [
      "/usr/local/lib/python3.6/site-packages/dask/dataframe/core.py:2870: UserWarning: `meta` is not specified, inferred from partial data. Please provide `meta` if the result is unexpected.\n",
      "  Before: .apply(func)\n",
      "  After:  .apply(func, meta={'x': 'f8', 'y': 'f8'}) for dataframe result\n",
      "  or:     .apply(func, meta=('x', 'f8'))            for series result\n",
      "  warnings.warn(msg)\n"
     ]
    }
   ],
   "source": [
    "# creating dataframes for each of the groups\n",
    "def group_category(row):\n",
    "    if 'Video Game' in row['category_name']:\n",
    "        return 'video_game'\n",
    "    else:\n",
    "        return 'non_related'\n",
    "\n",
    "df_groups = df.copy()    \n",
    "df_groups['group_category'] = df.apply(group_category, axis=1)\n",
    "\n",
    "df_groups['description_len'] = df_groups['item_description'].str.len()\n",
    "\n",
    "df_groups = df_groups.compute()"
   ]
  },
  {
   "cell_type": "markdown",
   "metadata": {},
   "source": [
    "Data has been explored with isolated data sets. Now, for a broader statistical analysis, data will be flagged to define groups within the data."
   ]
  },
  {
   "cell_type": "code",
   "execution_count": 90,
   "metadata": {},
   "outputs": [],
   "source": [
    "from scipy.stats import linregress\n",
    "\n",
    "def qqplot(x, y, **kwargs):\n",
    "    lg_x = np.ma.masked_invalid(np.log10(x))\n",
    "    \n",
    "    fitx, fity = np.polyfit(lg_x, y, deg=1)\n",
    "    _ = plt.plot(lg_x, fitx * lg_x + fity, color='red') \n",
    "    _ = plt.scatter(lg_x, y,alpha=0.2)\n",
    "    \n",
    "\n",
    "def lg_cumulative_plot(x, **kwargs):\n",
    "    lg_x = np.ma.masked_invalid(np.log10(x))    \n",
    "    _ = cumulative(lg_x)    \n",
    "    \n",
    "\n",
    "def lg_dist_plot(x, **kwargs):\n",
    "    lg_x = np.ma.masked_invalid(np.log10(x))    \n",
    "    _ = dist(lg_x)    "
   ]
  },
  {
   "cell_type": "code",
   "execution_count": 77,
   "metadata": {},
   "outputs": [
    {
     "data": {
      "image/png": "[encoded data removed]",
      "text/plain": [
       "<Figure size 864x432 with 2 Axes>"
      ]
     },
     "metadata": {},
     "output_type": "display_data"
    }
   ],
   "source": [
    "g = sns.FacetGrid(df_groups, col='group_category', size=6, aspect=1)\n",
    "_ = g.map(qqplot, \"description_len\", 'price')"
   ]
  },
  {
   "cell_type": "code",
   "execution_count": 80,
   "metadata": {},
   "outputs": [
    {
     "name": "stderr",
     "output_type": "stream",
     "text": [
      "/usr/local/lib/python3.6/site-packages/matplotlib/axes/_axes.py:6462: UserWarning: The 'normed' kwarg is deprecated, and has been replaced by the 'density' kwarg.\n",
      "  warnings.warn(\"The 'normed' kwarg is deprecated, and has been \"\n",
      "/usr/local/lib/python3.6/site-packages/matplotlib/axes/_axes.py:6462: UserWarning: The 'normed' kwarg is deprecated, and has been replaced by the 'density' kwarg.\n",
      "  warnings.warn(\"The 'normed' kwarg is deprecated, and has been \"\n"
     ]
    },
    {
     "data": {
      "image/png": "[encoded data removed]",
      "text/plain": [
       "<Figure size 648x648 with 2 Axes>"
      ]
     },
     "metadata": {},
     "output_type": "display_data"
    }
   ],
   "source": [
    "g = sns.FacetGrid(df_groups, col=\"group_category\", size=9, aspect=.5)\n",
    "_ = g.map(nplot, \"description_len\")"
   ]
  },
  {
   "cell_type": "code",
   "execution_count": 87,
   "metadata": {},
   "outputs": [
    {
     "name": "stderr",
     "output_type": "stream",
     "text": [
      "/usr/local/lib/python3.6/site-packages/ipykernel_launcher.py:12: RuntimeWarning: divide by zero encountered in log10\n",
      "  if sys.path[0] == '':\n",
      "/usr/local/lib/python3.6/site-packages/matplotlib/axes/_axes.py:6462: UserWarning: The 'normed' kwarg is deprecated, and has been replaced by the 'density' kwarg.\n",
      "  warnings.warn(\"The 'normed' kwarg is deprecated, and has been \"\n",
      "/usr/local/lib/python3.6/site-packages/matplotlib/axes/_axes.py:6462: UserWarning: The 'normed' kwarg is deprecated, and has been replaced by the 'density' kwarg.\n",
      "  warnings.warn(\"The 'normed' kwarg is deprecated, and has been \"\n"
     ]
    },
    {
     "data": {
      "image/png": "[encoded data removed]",
      "text/plain": [
       "<Figure size 648x648 with 2 Axes>"
      ]
     },
     "metadata": {},
     "output_type": "display_data"
    }
   ],
   "source": [
    "g = sns.FacetGrid(df_groups, col=\"group_category\", size=9, aspect=.5)\n",
    "_ = g.map(nplot, \"price\")"
   ]
  },
  {
   "cell_type": "code",
   "execution_count": 100,
   "metadata": {},
   "outputs": [
    {
     "name": "stderr",
     "output_type": "stream",
     "text": [
      "/usr/local/lib/python3.6/site-packages/ipykernel_launcher.py:17: RuntimeWarning: divide by zero encountered in log10\n",
      "/usr/local/lib/python3.6/site-packages/matplotlib/axes/_axes.py:6462: UserWarning: The 'normed' kwarg is deprecated, and has been replaced by the 'density' kwarg.\n",
      "  warnings.warn(\"The 'normed' kwarg is deprecated, and has been \"\n",
      "/usr/local/lib/python3.6/site-packages/matplotlib/axes/_axes.py:6462: UserWarning: The 'normed' kwarg is deprecated, and has been replaced by the 'density' kwarg.\n",
      "  warnings.warn(\"The 'normed' kwarg is deprecated, and has been \"\n"
     ]
    },
    {
     "data": {
      "image/png": "[encoded data removed]",
      "text/plain": [
       "<Figure size 720x720 with 2 Axes>"
      ]
     },
     "metadata": {},
     "output_type": "display_data"
    }
   ],
   "source": [
    "g = sns.FacetGrid(df_groups, col=\"group_category\", size=10, aspect=.5)\n",
    "_ = g.map(lg_dist_plot, \"price\")"
   ]
  }
 ],
 "metadata": {
  "celltoolbar": "Edit Metadata",
  "kernelspec": {
   "display_name": "Python 3",
   "language": "python",
   "name": "python3"
  },
  "language_info": {
   "codemirror_mode": {
    "name": "ipython",
    "version": 3
   },
   "file_extension": ".py",
   "mimetype": "text/x-python",
   "name": "python",
   "nbconvert_exporter": "python",
   "pygments_lexer": "ipython3",
   "version": "3.6.5"
  },
  "varInspector": {
   "cols": {
    "lenName": 16,
    "lenType": 16,
    "lenVar": 40
   },
   "kernels_config": {
    "python": {
     "delete_cmd_postfix": "",
     "delete_cmd_prefix": "del ",
     "library": "var_list.py",
     "varRefreshCmd": "print(var_dic_list())"
    },
    "r": {
     "delete_cmd_postfix": ") ",
     "delete_cmd_prefix": "rm(",
     "library": "var_list.r",
     "varRefreshCmd": "cat(var_dic_list()) "
    }
   },
   "latex_metadata": {
    "affiliation": "Freie Universit\\\"at Berlin, Fachbereich Physik, 14195 Berlin, Germany",
    "author": "Julius C. F. Schulz",
    "title": "Amazing Article"
   },
   "oldHeight": 653,
   "position": {
    "height": "40px",
    "left": "1233px",
    "right": "20px",
    "top": "120px",
    "width": "353px"
   },
   "types_to_exclude": [
    "module",
    "function",
    "builtin_function_or_method",
    "instance",
    "_Feature"
   ],
   "varInspector_section_display": "none",
   "window_display": false
  }
 },
 "nbformat": 4,
 "nbformat_minor": 2
}
